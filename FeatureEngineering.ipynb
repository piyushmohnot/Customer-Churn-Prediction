{
 "cells": [
  {
   "cell_type": "code",
   "execution_count": 2,
   "metadata": {
    "collapsed": true
   },
   "outputs": [],
   "source": [
    "import numpy as np\n",
    "import pandas as pd\n",
    "import matplotlib.pyplot as plt\n",
    "import seaborn as sns\n",
    "from datetime import datetime\n",
    "import sys"
   ]
  },
  {
   "cell_type": "code",
   "execution_count": 3,
   "outputs": [],
   "source": [
    "account_raw = pd.read_excel('Data/Labelmaster Account Data.xlsx')\n",
    "contact_raw = pd.read_excel('Data/Labelmaster Contact Data.xlsx')\n",
    "family_raw = pd.read_excel('Data/Labelmaster Family Data.xlsx')"
   ],
   "metadata": {
    "collapsed": false,
    "pycharm": {
     "name": "#%%\n"
    }
   }
  },
  {
   "cell_type": "code",
   "execution_count": 4,
   "outputs": [],
   "source": [
    "sales_raw1=pd.read_excel('Data/Labelmaster Sales Data.xlsx',sheet_name=0)\n",
    "sales_raw2=pd.read_excel('Data/Labelmaster Sales Data.xlsx',sheet_name=1)"
   ],
   "metadata": {
    "collapsed": false,
    "pycharm": {
     "name": "#%%\n"
    }
   }
  },
  {
   "cell_type": "code",
   "execution_count": 5,
   "outputs": [
    {
     "name": "stdout",
     "output_type": "stream",
     "text": [
      "Row count -> sheet1:991570, sheet2:844916\n"
     ]
    }
   ],
   "source": [
    "print(\"Row count -> sheet1:{}, sheet2:{}\".format(len(sales_raw1.index),len(sales_raw2.index)))"
   ],
   "metadata": {
    "collapsed": false,
    "pycharm": {
     "name": "#%%\n"
    }
   }
  },
  {
   "cell_type": "code",
   "execution_count": 6,
   "outputs": [],
   "source": [
    "sales_combine_raw = pd.concat([sales_raw1, sales_raw2], ignore_index=True)"
   ],
   "metadata": {
    "collapsed": false,
    "pycharm": {
     "name": "#%%\n"
    }
   }
  },
  {
   "cell_type": "code",
   "execution_count": 7,
   "outputs": [],
   "source": [
    "sales_combine_raw=sales_combine_raw.sort_values(['Customer No','Posting Date'],ascending=(True,True))"
   ],
   "metadata": {
    "collapsed": false,
    "pycharm": {
     "name": "#%%\n"
    }
   }
  },
  {
   "cell_type": "code",
   "execution_count": 8,
   "outputs": [],
   "source": [
    "sales_combine_raw['Posting Date']=pd.to_datetime(sales_combine_raw['Posting Date']).dt.date"
   ],
   "metadata": {
    "collapsed": false,
    "pycharm": {
     "name": "#%%\n"
    }
   }
  },
  {
   "cell_type": "code",
   "execution_count": 9,
   "outputs": [],
   "source": [
    "sales_combine_raw.columns=(c.replace(' ','_') for c in sales_combine_raw.columns)"
   ],
   "metadata": {
    "collapsed": false,
    "pycharm": {
     "name": "#%%\n"
    }
   }
  },
  {
   "cell_type": "code",
   "execution_count": 10,
   "outputs": [
    {
     "data": {
      "text/plain": "1836486"
     },
     "execution_count": 10,
     "metadata": {},
     "output_type": "execute_result"
    }
   ],
   "source": [
    "len(sales_combine_raw)"
   ],
   "metadata": {
    "collapsed": false,
    "pycharm": {
     "name": "#%%\n"
    }
   }
  },
  {
   "cell_type": "code",
   "execution_count": 11,
   "outputs": [
    {
     "name": "stdout",
     "output_type": "stream",
     "text": [
      "Account unique:150663,Sales Customer Unique:92944\n"
     ]
    }
   ],
   "source": [
    "print(\"Account unique:{},Sales Customer Unique:{}\".format(len(account_raw.AccountNumber.dropna().unique()),len(sales_combine_raw.Customer_No.dropna().unique())))"
   ],
   "metadata": {
    "collapsed": false,
    "pycharm": {
     "name": "#%%\n"
    }
   }
  },
  {
   "cell_type": "code",
   "execution_count": 12,
   "outputs": [
    {
     "name": "stdout",
     "output_type": "stream",
     "text": [
      "92944\n"
     ]
    }
   ],
   "source": [
    "Total_Customer_Sales = len(sales_combine_raw.Customer_No.dropna().unique())\n",
    "print(Total_Customer_Sales)"
   ],
   "metadata": {
    "collapsed": false,
    "pycharm": {
     "name": "#%%\n"
    }
   }
  },
  {
   "cell_type": "code",
   "execution_count": 13,
   "outputs": [
    {
     "data": {
      "text/plain": "       Customer_No       Item  Quantity_Ordered  Line_Item_Amount  \\\n138987     0000010      SL20R                 2            128.20   \n138988     0000010   SHIPPING                 1             10.50   \n198692     0000010     Z-PSR2                 2             45.00   \n198693     0000010   SHIPPING                 1             11.73   \n259663     0000010  ZEZ131325                 2             97.50   \n259664     0000010      SL20R                 3            192.30   \n330037     0000010    HSN1700                 6            166.80   \n431980     0000010    Z-PSR52                 1             23.75   \n431981     0000010   SHIPPING                 1             11.80   \n796504     0000010     Z-PSR2                 3             67.50   \n873143     0000010      SL20R                 3            192.30   \n873144     0000010    HSN1700                 2             63.20   \n873145     0000010      BLT68                 0              0.00   \n815375     0000010      SL20R                 0              0.00   \n815376     0000010    HSN1700                 0              0.00   \n815377     0000010      BLT68                 8            298.40   \n\n       Posting_Date Ship-to_State Ship-to_ZipCode  Department_Dim  \\\n138987   2016-04-27            IL           60510             503   \n138988   2016-04-27            IL           60510             699   \n198692   2016-06-08            SC           29605             511   \n198693   2016-06-08            SC           29605             699   \n259663   2016-07-29            IL      60510-1449             511   \n259664   2016-07-29            IL      60510-1449             503   \n330037   2016-10-18            SC           29605             503   \n431980   2017-02-09            SC           29605             511   \n431981   2017-02-09            SC           29605             699   \n796504   2017-09-08            SC           29605             511   \n873143   2018-07-31            IL           60510             503   \n873144   2018-07-31            IL           60510             503   \n873145   2018-07-31            IL           60510             503   \n815375   2018-08-01            IL           60510             503   \n815376   2018-08-01            IL           60510             503   \n815377   2018-08-01            IL           60510             503   \n\n       Department_Dim_Description Product_Group_Code  \\\n138987                     Labels            50305.0   \n138988           Contra Dimension                NaN   \n198692                   Placards            51102.0   \n198693           Contra Dimension                NaN   \n259663                   Placards            51111.0   \n259664                     Labels            50305.0   \n330037                     Labels            50304.0   \n431980                   Placards            51102.0   \n431981           Contra Dimension                NaN   \n796504                   Placards            51102.0   \n873143                     Labels            50305.0   \n873144                     Labels            50304.0   \n873145                     Labels            50300.0   \n815375                     Labels            50305.0   \n815376                     Labels            50304.0   \n815377                     Labels            50300.0   \n\n       Product_Group_Description Order_Method Location_Code  \n138987                Air Labels    LM-PH CCS            10  \n138988                       NaN    LM-PH CCS            10  \n198692           Worded Placards     LM-EMAIL            10  \n198693                       NaN     LM-EMAIL            10  \n259663      Pre-Printed Placards     LM-EMAIL            10  \n259664                Air Labels     LM-EMAIL            10  \n330037      International Labels     LM-EMAIL            10  \n431980           Worded Placards     LM-EMAIL            10  \n431981                       NaN     LM-EMAIL            10  \n796504           Worded Placards     LM-EMAIL            10  \n873143                Air Labels     LM-EMAIL            10  \n873144      International Labels     LM-EMAIL            10  \n873145          Warehouse Labels     LM-EMAIL            10  \n815375                Air Labels     LM-EMAIL            10  \n815376      International Labels     LM-EMAIL            10  \n815377          Warehouse Labels     LM-EMAIL            10  ",
      "text/html": "<div>\n<style scoped>\n    .dataframe tbody tr th:only-of-type {\n        vertical-align: middle;\n    }\n\n    .dataframe tbody tr th {\n        vertical-align: top;\n    }\n\n    .dataframe thead th {\n        text-align: right;\n    }\n</style>\n<table border=\"1\" class=\"dataframe\">\n  <thead>\n    <tr style=\"text-align: right;\">\n      <th></th>\n      <th>Customer_No</th>\n      <th>Item</th>\n      <th>Quantity_Ordered</th>\n      <th>Line_Item_Amount</th>\n      <th>Posting_Date</th>\n      <th>Ship-to_State</th>\n      <th>Ship-to_ZipCode</th>\n      <th>Department_Dim</th>\n      <th>Department_Dim_Description</th>\n      <th>Product_Group_Code</th>\n      <th>Product_Group_Description</th>\n      <th>Order_Method</th>\n      <th>Location_Code</th>\n    </tr>\n  </thead>\n  <tbody>\n    <tr>\n      <th>138987</th>\n      <td>0000010</td>\n      <td>SL20R</td>\n      <td>2</td>\n      <td>128.20</td>\n      <td>2016-04-27</td>\n      <td>IL</td>\n      <td>60510</td>\n      <td>503</td>\n      <td>Labels</td>\n      <td>50305.0</td>\n      <td>Air Labels</td>\n      <td>LM-PH CCS</td>\n      <td>10</td>\n    </tr>\n    <tr>\n      <th>138988</th>\n      <td>0000010</td>\n      <td>SHIPPING</td>\n      <td>1</td>\n      <td>10.50</td>\n      <td>2016-04-27</td>\n      <td>IL</td>\n      <td>60510</td>\n      <td>699</td>\n      <td>Contra Dimension</td>\n      <td>NaN</td>\n      <td>NaN</td>\n      <td>LM-PH CCS</td>\n      <td>10</td>\n    </tr>\n    <tr>\n      <th>198692</th>\n      <td>0000010</td>\n      <td>Z-PSR2</td>\n      <td>2</td>\n      <td>45.00</td>\n      <td>2016-06-08</td>\n      <td>SC</td>\n      <td>29605</td>\n      <td>511</td>\n      <td>Placards</td>\n      <td>51102.0</td>\n      <td>Worded Placards</td>\n      <td>LM-EMAIL</td>\n      <td>10</td>\n    </tr>\n    <tr>\n      <th>198693</th>\n      <td>0000010</td>\n      <td>SHIPPING</td>\n      <td>1</td>\n      <td>11.73</td>\n      <td>2016-06-08</td>\n      <td>SC</td>\n      <td>29605</td>\n      <td>699</td>\n      <td>Contra Dimension</td>\n      <td>NaN</td>\n      <td>NaN</td>\n      <td>LM-EMAIL</td>\n      <td>10</td>\n    </tr>\n    <tr>\n      <th>259663</th>\n      <td>0000010</td>\n      <td>ZEZ131325</td>\n      <td>2</td>\n      <td>97.50</td>\n      <td>2016-07-29</td>\n      <td>IL</td>\n      <td>60510-1449</td>\n      <td>511</td>\n      <td>Placards</td>\n      <td>51111.0</td>\n      <td>Pre-Printed Placards</td>\n      <td>LM-EMAIL</td>\n      <td>10</td>\n    </tr>\n    <tr>\n      <th>259664</th>\n      <td>0000010</td>\n      <td>SL20R</td>\n      <td>3</td>\n      <td>192.30</td>\n      <td>2016-07-29</td>\n      <td>IL</td>\n      <td>60510-1449</td>\n      <td>503</td>\n      <td>Labels</td>\n      <td>50305.0</td>\n      <td>Air Labels</td>\n      <td>LM-EMAIL</td>\n      <td>10</td>\n    </tr>\n    <tr>\n      <th>330037</th>\n      <td>0000010</td>\n      <td>HSN1700</td>\n      <td>6</td>\n      <td>166.80</td>\n      <td>2016-10-18</td>\n      <td>SC</td>\n      <td>29605</td>\n      <td>503</td>\n      <td>Labels</td>\n      <td>50304.0</td>\n      <td>International Labels</td>\n      <td>LM-EMAIL</td>\n      <td>10</td>\n    </tr>\n    <tr>\n      <th>431980</th>\n      <td>0000010</td>\n      <td>Z-PSR52</td>\n      <td>1</td>\n      <td>23.75</td>\n      <td>2017-02-09</td>\n      <td>SC</td>\n      <td>29605</td>\n      <td>511</td>\n      <td>Placards</td>\n      <td>51102.0</td>\n      <td>Worded Placards</td>\n      <td>LM-EMAIL</td>\n      <td>10</td>\n    </tr>\n    <tr>\n      <th>431981</th>\n      <td>0000010</td>\n      <td>SHIPPING</td>\n      <td>1</td>\n      <td>11.80</td>\n      <td>2017-02-09</td>\n      <td>SC</td>\n      <td>29605</td>\n      <td>699</td>\n      <td>Contra Dimension</td>\n      <td>NaN</td>\n      <td>NaN</td>\n      <td>LM-EMAIL</td>\n      <td>10</td>\n    </tr>\n    <tr>\n      <th>796504</th>\n      <td>0000010</td>\n      <td>Z-PSR2</td>\n      <td>3</td>\n      <td>67.50</td>\n      <td>2017-09-08</td>\n      <td>SC</td>\n      <td>29605</td>\n      <td>511</td>\n      <td>Placards</td>\n      <td>51102.0</td>\n      <td>Worded Placards</td>\n      <td>LM-EMAIL</td>\n      <td>10</td>\n    </tr>\n    <tr>\n      <th>873143</th>\n      <td>0000010</td>\n      <td>SL20R</td>\n      <td>3</td>\n      <td>192.30</td>\n      <td>2018-07-31</td>\n      <td>IL</td>\n      <td>60510</td>\n      <td>503</td>\n      <td>Labels</td>\n      <td>50305.0</td>\n      <td>Air Labels</td>\n      <td>LM-EMAIL</td>\n      <td>10</td>\n    </tr>\n    <tr>\n      <th>873144</th>\n      <td>0000010</td>\n      <td>HSN1700</td>\n      <td>2</td>\n      <td>63.20</td>\n      <td>2018-07-31</td>\n      <td>IL</td>\n      <td>60510</td>\n      <td>503</td>\n      <td>Labels</td>\n      <td>50304.0</td>\n      <td>International Labels</td>\n      <td>LM-EMAIL</td>\n      <td>10</td>\n    </tr>\n    <tr>\n      <th>873145</th>\n      <td>0000010</td>\n      <td>BLT68</td>\n      <td>0</td>\n      <td>0.00</td>\n      <td>2018-07-31</td>\n      <td>IL</td>\n      <td>60510</td>\n      <td>503</td>\n      <td>Labels</td>\n      <td>50300.0</td>\n      <td>Warehouse Labels</td>\n      <td>LM-EMAIL</td>\n      <td>10</td>\n    </tr>\n    <tr>\n      <th>815375</th>\n      <td>0000010</td>\n      <td>SL20R</td>\n      <td>0</td>\n      <td>0.00</td>\n      <td>2018-08-01</td>\n      <td>IL</td>\n      <td>60510</td>\n      <td>503</td>\n      <td>Labels</td>\n      <td>50305.0</td>\n      <td>Air Labels</td>\n      <td>LM-EMAIL</td>\n      <td>10</td>\n    </tr>\n    <tr>\n      <th>815376</th>\n      <td>0000010</td>\n      <td>HSN1700</td>\n      <td>0</td>\n      <td>0.00</td>\n      <td>2018-08-01</td>\n      <td>IL</td>\n      <td>60510</td>\n      <td>503</td>\n      <td>Labels</td>\n      <td>50304.0</td>\n      <td>International Labels</td>\n      <td>LM-EMAIL</td>\n      <td>10</td>\n    </tr>\n    <tr>\n      <th>815377</th>\n      <td>0000010</td>\n      <td>BLT68</td>\n      <td>8</td>\n      <td>298.40</td>\n      <td>2018-08-01</td>\n      <td>IL</td>\n      <td>60510</td>\n      <td>503</td>\n      <td>Labels</td>\n      <td>50300.0</td>\n      <td>Warehouse Labels</td>\n      <td>LM-EMAIL</td>\n      <td>10</td>\n    </tr>\n  </tbody>\n</table>\n</div>"
     },
     "execution_count": 13,
     "metadata": {},
     "output_type": "execute_result"
    }
   ],
   "source": [
    "sales_combine_raw.loc[sales_combine_raw['Customer_No']=='0000010']"
   ],
   "metadata": {
    "collapsed": false,
    "pycharm": {
     "name": "#%%\n"
    }
   }
  },
  {
   "cell_type": "code",
   "execution_count": 14,
   "outputs": [
    {
     "name": "stdout",
     "output_type": "stream",
     "text": [
      "Sales -> min:2016-01-01,max:2022-01-25\n",
      "Account -> min:2003-09-04 17:41:37,max:2022-01-27 19:00:05\n"
     ]
    }
   ],
   "source": [
    "print(\"Sales -> min:{},max:{}\\nAccount -> min:{},max:{}\".format(min(sales_combine_raw['Posting_Date']),max(sales_combine_raw['Posting_Date']),min(account_raw['CreatedDate']),max(account_raw['CreatedDate']),))"
   ],
   "metadata": {
    "collapsed": false,
    "pycharm": {
     "name": "#%%\n"
    }
   }
  },
  {
   "cell_type": "code",
   "execution_count": 15,
   "outputs": [
    {
     "name": "stderr",
     "output_type": "stream",
     "text": [
      "C:\\Users\\mohno\\AppData\\Local\\Temp/ipykernel_3460/3371876655.py:1: FutureWarning: Indexing with multiple keys (implicitly converted to a tuple of keys) will be deprecated, use a list instead.\n",
      "  sales_consolidated = sales_combine_raw.groupby(['Customer_No','Posting_Date'])['Quantity_Ordered','Line_Item_Amount'].sum().reset_index()\n"
     ]
    }
   ],
   "source": [
    "sales_consolidated = sales_combine_raw.groupby(['Customer_No','Posting_Date'])['Quantity_Ordered','Line_Item_Amount'].sum().reset_index()"
   ],
   "metadata": {
    "collapsed": false,
    "pycharm": {
     "name": "#%%\n"
    }
   }
  },
  {
   "cell_type": "code",
   "execution_count": 16,
   "outputs": [],
   "source": [
    "#sales_combine_raw['customer_time']=sales_combine_raw['Customer_No'].astype(str)+sales_combine_raw['Posting_Date'].astype(str)"
   ],
   "metadata": {
    "collapsed": false,
    "pycharm": {
     "name": "#%%\n"
    }
   }
  },
  {
   "cell_type": "code",
   "execution_count": 17,
   "outputs": [],
   "source": [
    "sales_consolidated['index1']=np.arange(1,len(sales_consolidated)+1)"
   ],
   "metadata": {
    "collapsed": false,
    "pycharm": {
     "name": "#%%\n"
    }
   }
  },
  {
   "cell_type": "code",
   "execution_count": 18,
   "outputs": [],
   "source": [
    "sales_consolidated['index2']=np.arange(len(sales_consolidated))"
   ],
   "metadata": {
    "collapsed": false,
    "pycharm": {
     "name": "#%%\n"
    }
   }
  },
  {
   "cell_type": "code",
   "execution_count": 19,
   "outputs": [
    {
     "data": {
      "text/plain": "   Customer_No Posting_Date  Quantity_Ordered  Line_Item_Amount  index1  \\\n0            .   2021-03-10               705           4358.10       1   \n1            .   2021-03-11                11            124.08       2   \n2            .   2021-03-15                 3            133.13       3   \n3            .   2021-03-16                44            559.78       4   \n4            .   2021-03-31              -749          -4917.88       5   \n5      0000001   2016-11-04                 9            258.77       6   \n6      0000001   2016-11-17                -9           -258.77       7   \n7      0000010   2016-04-27                 3            138.70       8   \n8      0000010   2016-06-08                 3             56.73       9   \n9      0000010   2016-07-29                 5            289.80      10   \n10     0000010   2016-10-18                 6            166.80      11   \n11     0000010   2017-02-09                 2             35.55      12   \n12     0000010   2017-09-08                 3             67.50      13   \n13     0000010   2018-07-31                 5            255.50      14   \n14     0000010   2018-08-01                 8            298.40      15   \n15     0000133   2016-10-06                15             26.05      16   \n16     0000133   2016-10-17                 1             63.09      17   \n17     0000133   2016-10-20                 1             21.39      18   \n18     0000133   2016-10-24                 1              4.38      19   \n19     0000133   2018-07-06                35            890.40      20   \n20     0000145   2016-01-26               141           1288.65      21   \n21     0000145   2016-03-31               115            705.67      22   \n22     0000145   2016-05-27                 2             50.96      23   \n23     0000145   2016-06-03                 2             41.15      24   \n24     0000145   2016-06-13                 3             36.74      25   \n25     0000145   2016-08-04                31            794.40      26   \n26     0000145   2016-08-30                 4             88.94      27   \n27     0000145   2016-08-31               969            367.84      28   \n28     0000145   2016-10-04                32              0.00      29   \n29     0000145   2016-11-07                 2            331.94      30   \n30     0000145   2016-12-02               121           1050.50      31   \n31     0000145   2017-01-10                77           2589.98      32   \n32     0000145   2017-02-07                 7            183.26      33   \n33     0000145   2017-02-09                 7            306.03      34   \n34     0000145   2017-02-10                11            249.73      35   \n35     0000145   2017-02-16                 2            251.40      36   \n36     0000145   2017-05-25                14            262.54      37   \n37     0000145   2017-05-31                 5             56.02      38   \n38     0000145   2017-06-15                22              0.00      39   \n39     0000145   2017-06-16                 7            276.25      40   \n40     0000145   2017-07-13                 2             58.09      41   \n41     0000145   2017-08-02                10            443.23      42   \n42     0000145   2017-08-08                 3            228.72      43   \n43     0000145   2017-08-21                 2             64.54      44   \n44     0000145   2017-10-25                26            941.54      45   \n45     0000145   2017-11-07                28            213.55      46   \n46     0000145   2017-11-09                 9              0.00      47   \n47     0000145   2017-11-10                 3            105.95      48   \n48     0000145   2017-11-14                22            476.42      49   \n49     0000145   2017-11-27              1001           2721.70      50   \n\n    index2  \n0        0  \n1        1  \n2        2  \n3        3  \n4        4  \n5        5  \n6        6  \n7        7  \n8        8  \n9        9  \n10      10  \n11      11  \n12      12  \n13      13  \n14      14  \n15      15  \n16      16  \n17      17  \n18      18  \n19      19  \n20      20  \n21      21  \n22      22  \n23      23  \n24      24  \n25      25  \n26      26  \n27      27  \n28      28  \n29      29  \n30      30  \n31      31  \n32      32  \n33      33  \n34      34  \n35      35  \n36      36  \n37      37  \n38      38  \n39      39  \n40      40  \n41      41  \n42      42  \n43      43  \n44      44  \n45      45  \n46      46  \n47      47  \n48      48  \n49      49  ",
      "text/html": "<div>\n<style scoped>\n    .dataframe tbody tr th:only-of-type {\n        vertical-align: middle;\n    }\n\n    .dataframe tbody tr th {\n        vertical-align: top;\n    }\n\n    .dataframe thead th {\n        text-align: right;\n    }\n</style>\n<table border=\"1\" class=\"dataframe\">\n  <thead>\n    <tr style=\"text-align: right;\">\n      <th></th>\n      <th>Customer_No</th>\n      <th>Posting_Date</th>\n      <th>Quantity_Ordered</th>\n      <th>Line_Item_Amount</th>\n      <th>index1</th>\n      <th>index2</th>\n    </tr>\n  </thead>\n  <tbody>\n    <tr>\n      <th>0</th>\n      <td>.</td>\n      <td>2021-03-10</td>\n      <td>705</td>\n      <td>4358.10</td>\n      <td>1</td>\n      <td>0</td>\n    </tr>\n    <tr>\n      <th>1</th>\n      <td>.</td>\n      <td>2021-03-11</td>\n      <td>11</td>\n      <td>124.08</td>\n      <td>2</td>\n      <td>1</td>\n    </tr>\n    <tr>\n      <th>2</th>\n      <td>.</td>\n      <td>2021-03-15</td>\n      <td>3</td>\n      <td>133.13</td>\n      <td>3</td>\n      <td>2</td>\n    </tr>\n    <tr>\n      <th>3</th>\n      <td>.</td>\n      <td>2021-03-16</td>\n      <td>44</td>\n      <td>559.78</td>\n      <td>4</td>\n      <td>3</td>\n    </tr>\n    <tr>\n      <th>4</th>\n      <td>.</td>\n      <td>2021-03-31</td>\n      <td>-749</td>\n      <td>-4917.88</td>\n      <td>5</td>\n      <td>4</td>\n    </tr>\n    <tr>\n      <th>5</th>\n      <td>0000001</td>\n      <td>2016-11-04</td>\n      <td>9</td>\n      <td>258.77</td>\n      <td>6</td>\n      <td>5</td>\n    </tr>\n    <tr>\n      <th>6</th>\n      <td>0000001</td>\n      <td>2016-11-17</td>\n      <td>-9</td>\n      <td>-258.77</td>\n      <td>7</td>\n      <td>6</td>\n    </tr>\n    <tr>\n      <th>7</th>\n      <td>0000010</td>\n      <td>2016-04-27</td>\n      <td>3</td>\n      <td>138.70</td>\n      <td>8</td>\n      <td>7</td>\n    </tr>\n    <tr>\n      <th>8</th>\n      <td>0000010</td>\n      <td>2016-06-08</td>\n      <td>3</td>\n      <td>56.73</td>\n      <td>9</td>\n      <td>8</td>\n    </tr>\n    <tr>\n      <th>9</th>\n      <td>0000010</td>\n      <td>2016-07-29</td>\n      <td>5</td>\n      <td>289.80</td>\n      <td>10</td>\n      <td>9</td>\n    </tr>\n    <tr>\n      <th>10</th>\n      <td>0000010</td>\n      <td>2016-10-18</td>\n      <td>6</td>\n      <td>166.80</td>\n      <td>11</td>\n      <td>10</td>\n    </tr>\n    <tr>\n      <th>11</th>\n      <td>0000010</td>\n      <td>2017-02-09</td>\n      <td>2</td>\n      <td>35.55</td>\n      <td>12</td>\n      <td>11</td>\n    </tr>\n    <tr>\n      <th>12</th>\n      <td>0000010</td>\n      <td>2017-09-08</td>\n      <td>3</td>\n      <td>67.50</td>\n      <td>13</td>\n      <td>12</td>\n    </tr>\n    <tr>\n      <th>13</th>\n      <td>0000010</td>\n      <td>2018-07-31</td>\n      <td>5</td>\n      <td>255.50</td>\n      <td>14</td>\n      <td>13</td>\n    </tr>\n    <tr>\n      <th>14</th>\n      <td>0000010</td>\n      <td>2018-08-01</td>\n      <td>8</td>\n      <td>298.40</td>\n      <td>15</td>\n      <td>14</td>\n    </tr>\n    <tr>\n      <th>15</th>\n      <td>0000133</td>\n      <td>2016-10-06</td>\n      <td>15</td>\n      <td>26.05</td>\n      <td>16</td>\n      <td>15</td>\n    </tr>\n    <tr>\n      <th>16</th>\n      <td>0000133</td>\n      <td>2016-10-17</td>\n      <td>1</td>\n      <td>63.09</td>\n      <td>17</td>\n      <td>16</td>\n    </tr>\n    <tr>\n      <th>17</th>\n      <td>0000133</td>\n      <td>2016-10-20</td>\n      <td>1</td>\n      <td>21.39</td>\n      <td>18</td>\n      <td>17</td>\n    </tr>\n    <tr>\n      <th>18</th>\n      <td>0000133</td>\n      <td>2016-10-24</td>\n      <td>1</td>\n      <td>4.38</td>\n      <td>19</td>\n      <td>18</td>\n    </tr>\n    <tr>\n      <th>19</th>\n      <td>0000133</td>\n      <td>2018-07-06</td>\n      <td>35</td>\n      <td>890.40</td>\n      <td>20</td>\n      <td>19</td>\n    </tr>\n    <tr>\n      <th>20</th>\n      <td>0000145</td>\n      <td>2016-01-26</td>\n      <td>141</td>\n      <td>1288.65</td>\n      <td>21</td>\n      <td>20</td>\n    </tr>\n    <tr>\n      <th>21</th>\n      <td>0000145</td>\n      <td>2016-03-31</td>\n      <td>115</td>\n      <td>705.67</td>\n      <td>22</td>\n      <td>21</td>\n    </tr>\n    <tr>\n      <th>22</th>\n      <td>0000145</td>\n      <td>2016-05-27</td>\n      <td>2</td>\n      <td>50.96</td>\n      <td>23</td>\n      <td>22</td>\n    </tr>\n    <tr>\n      <th>23</th>\n      <td>0000145</td>\n      <td>2016-06-03</td>\n      <td>2</td>\n      <td>41.15</td>\n      <td>24</td>\n      <td>23</td>\n    </tr>\n    <tr>\n      <th>24</th>\n      <td>0000145</td>\n      <td>2016-06-13</td>\n      <td>3</td>\n      <td>36.74</td>\n      <td>25</td>\n      <td>24</td>\n    </tr>\n    <tr>\n      <th>25</th>\n      <td>0000145</td>\n      <td>2016-08-04</td>\n      <td>31</td>\n      <td>794.40</td>\n      <td>26</td>\n      <td>25</td>\n    </tr>\n    <tr>\n      <th>26</th>\n      <td>0000145</td>\n      <td>2016-08-30</td>\n      <td>4</td>\n      <td>88.94</td>\n      <td>27</td>\n      <td>26</td>\n    </tr>\n    <tr>\n      <th>27</th>\n      <td>0000145</td>\n      <td>2016-08-31</td>\n      <td>969</td>\n      <td>367.84</td>\n      <td>28</td>\n      <td>27</td>\n    </tr>\n    <tr>\n      <th>28</th>\n      <td>0000145</td>\n      <td>2016-10-04</td>\n      <td>32</td>\n      <td>0.00</td>\n      <td>29</td>\n      <td>28</td>\n    </tr>\n    <tr>\n      <th>29</th>\n      <td>0000145</td>\n      <td>2016-11-07</td>\n      <td>2</td>\n      <td>331.94</td>\n      <td>30</td>\n      <td>29</td>\n    </tr>\n    <tr>\n      <th>30</th>\n      <td>0000145</td>\n      <td>2016-12-02</td>\n      <td>121</td>\n      <td>1050.50</td>\n      <td>31</td>\n      <td>30</td>\n    </tr>\n    <tr>\n      <th>31</th>\n      <td>0000145</td>\n      <td>2017-01-10</td>\n      <td>77</td>\n      <td>2589.98</td>\n      <td>32</td>\n      <td>31</td>\n    </tr>\n    <tr>\n      <th>32</th>\n      <td>0000145</td>\n      <td>2017-02-07</td>\n      <td>7</td>\n      <td>183.26</td>\n      <td>33</td>\n      <td>32</td>\n    </tr>\n    <tr>\n      <th>33</th>\n      <td>0000145</td>\n      <td>2017-02-09</td>\n      <td>7</td>\n      <td>306.03</td>\n      <td>34</td>\n      <td>33</td>\n    </tr>\n    <tr>\n      <th>34</th>\n      <td>0000145</td>\n      <td>2017-02-10</td>\n      <td>11</td>\n      <td>249.73</td>\n      <td>35</td>\n      <td>34</td>\n    </tr>\n    <tr>\n      <th>35</th>\n      <td>0000145</td>\n      <td>2017-02-16</td>\n      <td>2</td>\n      <td>251.40</td>\n      <td>36</td>\n      <td>35</td>\n    </tr>\n    <tr>\n      <th>36</th>\n      <td>0000145</td>\n      <td>2017-05-25</td>\n      <td>14</td>\n      <td>262.54</td>\n      <td>37</td>\n      <td>36</td>\n    </tr>\n    <tr>\n      <th>37</th>\n      <td>0000145</td>\n      <td>2017-05-31</td>\n      <td>5</td>\n      <td>56.02</td>\n      <td>38</td>\n      <td>37</td>\n    </tr>\n    <tr>\n      <th>38</th>\n      <td>0000145</td>\n      <td>2017-06-15</td>\n      <td>22</td>\n      <td>0.00</td>\n      <td>39</td>\n      <td>38</td>\n    </tr>\n    <tr>\n      <th>39</th>\n      <td>0000145</td>\n      <td>2017-06-16</td>\n      <td>7</td>\n      <td>276.25</td>\n      <td>40</td>\n      <td>39</td>\n    </tr>\n    <tr>\n      <th>40</th>\n      <td>0000145</td>\n      <td>2017-07-13</td>\n      <td>2</td>\n      <td>58.09</td>\n      <td>41</td>\n      <td>40</td>\n    </tr>\n    <tr>\n      <th>41</th>\n      <td>0000145</td>\n      <td>2017-08-02</td>\n      <td>10</td>\n      <td>443.23</td>\n      <td>42</td>\n      <td>41</td>\n    </tr>\n    <tr>\n      <th>42</th>\n      <td>0000145</td>\n      <td>2017-08-08</td>\n      <td>3</td>\n      <td>228.72</td>\n      <td>43</td>\n      <td>42</td>\n    </tr>\n    <tr>\n      <th>43</th>\n      <td>0000145</td>\n      <td>2017-08-21</td>\n      <td>2</td>\n      <td>64.54</td>\n      <td>44</td>\n      <td>43</td>\n    </tr>\n    <tr>\n      <th>44</th>\n      <td>0000145</td>\n      <td>2017-10-25</td>\n      <td>26</td>\n      <td>941.54</td>\n      <td>45</td>\n      <td>44</td>\n    </tr>\n    <tr>\n      <th>45</th>\n      <td>0000145</td>\n      <td>2017-11-07</td>\n      <td>28</td>\n      <td>213.55</td>\n      <td>46</td>\n      <td>45</td>\n    </tr>\n    <tr>\n      <th>46</th>\n      <td>0000145</td>\n      <td>2017-11-09</td>\n      <td>9</td>\n      <td>0.00</td>\n      <td>47</td>\n      <td>46</td>\n    </tr>\n    <tr>\n      <th>47</th>\n      <td>0000145</td>\n      <td>2017-11-10</td>\n      <td>3</td>\n      <td>105.95</td>\n      <td>48</td>\n      <td>47</td>\n    </tr>\n    <tr>\n      <th>48</th>\n      <td>0000145</td>\n      <td>2017-11-14</td>\n      <td>22</td>\n      <td>476.42</td>\n      <td>49</td>\n      <td>48</td>\n    </tr>\n    <tr>\n      <th>49</th>\n      <td>0000145</td>\n      <td>2017-11-27</td>\n      <td>1001</td>\n      <td>2721.70</td>\n      <td>50</td>\n      <td>49</td>\n    </tr>\n  </tbody>\n</table>\n</div>"
     },
     "execution_count": 19,
     "metadata": {},
     "output_type": "execute_result"
    }
   ],
   "source": [
    "#Main Sales data\n",
    "sales_consolidated.head(50)"
   ],
   "metadata": {
    "collapsed": false,
    "pycharm": {
     "name": "#%%\n"
    }
   }
  },
  {
   "cell_type": "code",
   "execution_count": 20,
   "outputs": [],
   "source": [
    "sales_combine_previous=sales_consolidated"
   ],
   "metadata": {
    "collapsed": false,
    "pycharm": {
     "name": "#%%\n"
    }
   }
  },
  {
   "cell_type": "code",
   "execution_count": 21,
   "outputs": [],
   "source": [
    "sales_combine_raw_next=sales_consolidated[['Customer_No','Posting_Date','index2']].copy()"
   ],
   "metadata": {
    "collapsed": false,
    "pycharm": {
     "name": "#%%\n"
    }
   }
  },
  {
   "cell_type": "code",
   "execution_count": 22,
   "outputs": [],
   "source": [
    "sales_new=sales_combine_previous.merge(sales_combine_raw_next,left_on=['Customer_No','index1'],right_on=['Customer_No','index2'],how='left')"
   ],
   "metadata": {
    "collapsed": false,
    "pycharm": {
     "name": "#%%\n"
    }
   }
  },
  {
   "cell_type": "code",
   "execution_count": 23,
   "outputs": [],
   "source": [
    "sales_new=sales_new.rename(columns={'Posting_Date_x': 'PreviousDate', 'Posting_Date_y': 'CurrentDate'})"
   ],
   "metadata": {
    "collapsed": false,
    "pycharm": {
     "name": "#%%\n"
    }
   }
  },
  {
   "cell_type": "code",
   "execution_count": 24,
   "outputs": [],
   "source": [
    "sales_new = sales_new.drop(columns=['index1','index2_x','index2_y'])"
   ],
   "metadata": {
    "collapsed": false,
    "pycharm": {
     "name": "#%%\n"
    }
   }
  },
  {
   "cell_type": "code",
   "execution_count": 25,
   "outputs": [],
   "source": [
    "sales_new.loc[sales_new['CurrentDate'].isnull(),'CurrentDate'] = pd.to_datetime('today')"
   ],
   "metadata": {
    "collapsed": false,
    "pycharm": {
     "name": "#%%\n"
    }
   }
  },
  {
   "cell_type": "code",
   "execution_count": 26,
   "outputs": [],
   "source": [
    "sales_new['CurrentDate']=pd.to_datetime(sales_new['CurrentDate']).dt.date"
   ],
   "metadata": {
    "collapsed": false,
    "pycharm": {
     "name": "#%%\n"
    }
   }
  },
  {
   "cell_type": "code",
   "execution_count": 27,
   "outputs": [],
   "source": [
    "sales_new['Difference'] = sales_new['CurrentDate']-sales_new['PreviousDate']"
   ],
   "metadata": {
    "collapsed": false,
    "pycharm": {
     "name": "#%%\n"
    }
   }
  },
  {
   "cell_type": "code",
   "execution_count": 28,
   "outputs": [],
   "source": [
    "sales_new['Difference'] = sales_new['Difference']/np.timedelta64(1,'D')"
   ],
   "metadata": {
    "collapsed": false,
    "pycharm": {
     "name": "#%%\n"
    }
   }
  },
  {
   "cell_type": "code",
   "execution_count": 29,
   "outputs": [],
   "source": [
    "sales_new.loc[sales_new['Difference'] <= 31,'Difference'] = 30"
   ],
   "metadata": {
    "collapsed": false,
    "pycharm": {
     "name": "#%%\n"
    }
   }
  },
  {
   "cell_type": "code",
   "execution_count": 30,
   "outputs": [],
   "source": [
    "sales_new['RollingSum']=sales_new.groupby('Customer_No')['Difference'].cumsum()"
   ],
   "metadata": {
    "collapsed": false,
    "pycharm": {
     "name": "#%%\n"
    }
   }
  },
  {
   "cell_type": "code",
   "execution_count": 31,
   "outputs": [],
   "source": [
    "sales_new['NoofTransaction']=sales_new.groupby('Customer_No').cumcount()+1"
   ],
   "metadata": {
    "collapsed": false,
    "pycharm": {
     "name": "#%%\n"
    }
   }
  },
  {
   "cell_type": "code",
   "execution_count": 32,
   "outputs": [],
   "source": [
    "sales_new['AveragePurchasingPeriod']=sales_new['RollingSum']/sales_new['NoofTransaction']"
   ],
   "metadata": {
    "collapsed": false,
    "pycharm": {
     "name": "#%%\n"
    }
   }
  },
  {
   "cell_type": "code",
   "execution_count": 33,
   "outputs": [
    {
     "data": {
      "text/plain": "   Customer_No PreviousDate  Quantity_Ordered  Line_Item_Amount CurrentDate  \\\n7      0000010   2016-04-27                 3            138.70  2016-06-08   \n8      0000010   2016-06-08                 3             56.73  2016-07-29   \n9      0000010   2016-07-29                 5            289.80  2016-10-18   \n10     0000010   2016-10-18                 6            166.80  2017-02-09   \n11     0000010   2017-02-09                 2             35.55  2017-09-08   \n12     0000010   2017-09-08                 3             67.50  2018-07-31   \n13     0000010   2018-07-31                 5            255.50  2018-08-01   \n14     0000010   2018-08-01                 8            298.40  2022-02-24   \n\n    Difference  RollingSum  NoofTransaction  AveragePurchasingPeriod  \n7         42.0        42.0                1                42.000000  \n8         51.0        93.0                2                46.500000  \n9         81.0       174.0                3                58.000000  \n10       114.0       288.0                4                72.000000  \n11       211.0       499.0                5                99.800000  \n12       326.0       825.0                6               137.500000  \n13        30.0       855.0                7               122.142857  \n14      1303.0      2158.0                8               269.750000  ",
      "text/html": "<div>\n<style scoped>\n    .dataframe tbody tr th:only-of-type {\n        vertical-align: middle;\n    }\n\n    .dataframe tbody tr th {\n        vertical-align: top;\n    }\n\n    .dataframe thead th {\n        text-align: right;\n    }\n</style>\n<table border=\"1\" class=\"dataframe\">\n  <thead>\n    <tr style=\"text-align: right;\">\n      <th></th>\n      <th>Customer_No</th>\n      <th>PreviousDate</th>\n      <th>Quantity_Ordered</th>\n      <th>Line_Item_Amount</th>\n      <th>CurrentDate</th>\n      <th>Difference</th>\n      <th>RollingSum</th>\n      <th>NoofTransaction</th>\n      <th>AveragePurchasingPeriod</th>\n    </tr>\n  </thead>\n  <tbody>\n    <tr>\n      <th>7</th>\n      <td>0000010</td>\n      <td>2016-04-27</td>\n      <td>3</td>\n      <td>138.70</td>\n      <td>2016-06-08</td>\n      <td>42.0</td>\n      <td>42.0</td>\n      <td>1</td>\n      <td>42.000000</td>\n    </tr>\n    <tr>\n      <th>8</th>\n      <td>0000010</td>\n      <td>2016-06-08</td>\n      <td>3</td>\n      <td>56.73</td>\n      <td>2016-07-29</td>\n      <td>51.0</td>\n      <td>93.0</td>\n      <td>2</td>\n      <td>46.500000</td>\n    </tr>\n    <tr>\n      <th>9</th>\n      <td>0000010</td>\n      <td>2016-07-29</td>\n      <td>5</td>\n      <td>289.80</td>\n      <td>2016-10-18</td>\n      <td>81.0</td>\n      <td>174.0</td>\n      <td>3</td>\n      <td>58.000000</td>\n    </tr>\n    <tr>\n      <th>10</th>\n      <td>0000010</td>\n      <td>2016-10-18</td>\n      <td>6</td>\n      <td>166.80</td>\n      <td>2017-02-09</td>\n      <td>114.0</td>\n      <td>288.0</td>\n      <td>4</td>\n      <td>72.000000</td>\n    </tr>\n    <tr>\n      <th>11</th>\n      <td>0000010</td>\n      <td>2017-02-09</td>\n      <td>2</td>\n      <td>35.55</td>\n      <td>2017-09-08</td>\n      <td>211.0</td>\n      <td>499.0</td>\n      <td>5</td>\n      <td>99.800000</td>\n    </tr>\n    <tr>\n      <th>12</th>\n      <td>0000010</td>\n      <td>2017-09-08</td>\n      <td>3</td>\n      <td>67.50</td>\n      <td>2018-07-31</td>\n      <td>326.0</td>\n      <td>825.0</td>\n      <td>6</td>\n      <td>137.500000</td>\n    </tr>\n    <tr>\n      <th>13</th>\n      <td>0000010</td>\n      <td>2018-07-31</td>\n      <td>5</td>\n      <td>255.50</td>\n      <td>2018-08-01</td>\n      <td>30.0</td>\n      <td>855.0</td>\n      <td>7</td>\n      <td>122.142857</td>\n    </tr>\n    <tr>\n      <th>14</th>\n      <td>0000010</td>\n      <td>2018-08-01</td>\n      <td>8</td>\n      <td>298.40</td>\n      <td>2022-02-24</td>\n      <td>1303.0</td>\n      <td>2158.0</td>\n      <td>8</td>\n      <td>269.750000</td>\n    </tr>\n  </tbody>\n</table>\n</div>"
     },
     "execution_count": 33,
     "metadata": {},
     "output_type": "execute_result"
    }
   ],
   "source": [
    "sales_new.loc[sales_new['Customer_No']=='0000010']"
   ],
   "metadata": {
    "collapsed": false,
    "pycharm": {
     "name": "#%%\n"
    }
   }
  },
  {
   "cell_type": "code",
   "execution_count": 34,
   "outputs": [],
   "source": [
    "df=sales_new.groupby(['Customer_No'],sort=False)['NoofTransaction'].max().reset_index()"
   ],
   "metadata": {
    "collapsed": false,
    "pycharm": {
     "name": "#%%\n"
    }
   }
  },
  {
   "cell_type": "code",
   "execution_count": 35,
   "outputs": [
    {
     "data": {
      "text/plain": "      Customer_No  NoofTransaction\n25        0000730                1\n26        0000748                1\n29        0000868                1\n38        0001293                1\n52        0001588                1\n...           ...              ...\n92938     7050073                1\n92939     7050074                1\n92940     7050077                1\n92941     7050078                1\n92942     7050079                1\n\n[56556 rows x 2 columns]",
      "text/html": "<div>\n<style scoped>\n    .dataframe tbody tr th:only-of-type {\n        vertical-align: middle;\n    }\n\n    .dataframe tbody tr th {\n        vertical-align: top;\n    }\n\n    .dataframe thead th {\n        text-align: right;\n    }\n</style>\n<table border=\"1\" class=\"dataframe\">\n  <thead>\n    <tr style=\"text-align: right;\">\n      <th></th>\n      <th>Customer_No</th>\n      <th>NoofTransaction</th>\n    </tr>\n  </thead>\n  <tbody>\n    <tr>\n      <th>25</th>\n      <td>0000730</td>\n      <td>1</td>\n    </tr>\n    <tr>\n      <th>26</th>\n      <td>0000748</td>\n      <td>1</td>\n    </tr>\n    <tr>\n      <th>29</th>\n      <td>0000868</td>\n      <td>1</td>\n    </tr>\n    <tr>\n      <th>38</th>\n      <td>0001293</td>\n      <td>1</td>\n    </tr>\n    <tr>\n      <th>52</th>\n      <td>0001588</td>\n      <td>1</td>\n    </tr>\n    <tr>\n      <th>...</th>\n      <td>...</td>\n      <td>...</td>\n    </tr>\n    <tr>\n      <th>92938</th>\n      <td>7050073</td>\n      <td>1</td>\n    </tr>\n    <tr>\n      <th>92939</th>\n      <td>7050074</td>\n      <td>1</td>\n    </tr>\n    <tr>\n      <th>92940</th>\n      <td>7050077</td>\n      <td>1</td>\n    </tr>\n    <tr>\n      <th>92941</th>\n      <td>7050078</td>\n      <td>1</td>\n    </tr>\n    <tr>\n      <th>92942</th>\n      <td>7050079</td>\n      <td>1</td>\n    </tr>\n  </tbody>\n</table>\n<p>56556 rows × 2 columns</p>\n</div>"
     },
     "execution_count": 35,
     "metadata": {},
     "output_type": "execute_result"
    }
   ],
   "source": [
    "df.loc[df['NoofTransaction']==1]"
   ],
   "metadata": {
    "collapsed": false,
    "pycharm": {
     "name": "#%%\n"
    }
   }
  },
  {
   "cell_type": "code",
   "execution_count": null,
   "outputs": [],
   "source": [
    "#sales_account1 = sales_account.groupby('Customer No').agg(NoofTransactions=('Customer No', 'count'))"
   ],
   "metadata": {
    "collapsed": false,
    "pycharm": {
     "name": "#%%\n"
    }
   }
  }
 ],
 "metadata": {
  "kernelspec": {
   "display_name": "Python 3",
   "language": "python",
   "name": "python3"
  },
  "language_info": {
   "codemirror_mode": {
    "name": "ipython",
    "version": 2
   },
   "file_extension": ".py",
   "mimetype": "text/x-python",
   "name": "python",
   "nbconvert_exporter": "python",
   "pygments_lexer": "ipython2",
   "version": "2.7.6"
  }
 },
 "nbformat": 4,
 "nbformat_minor": 0
}