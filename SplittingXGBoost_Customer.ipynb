{
 "cells": [
  {
   "cell_type": "code",
   "execution_count": 44,
   "metadata": {
    "collapsed": true
   },
   "outputs": [],
   "source": [
    "import pandas as pd\n",
    "import numpy as np\n",
    "from collections import Counter"
   ]
  },
  {
   "cell_type": "code",
   "execution_count": 56,
   "outputs": [
    {
     "name": "stderr",
     "output_type": "stream",
     "text": [
      "g:\\installed\\pyenvironments\\lib\\site-packages\\xgboost\\compat.py:36: FutureWarning: pandas.Int64Index is deprecated and will be removed from pandas in a future version. Use pandas.Index with the appropriate dtype instead.\n",
      "  from pandas import MultiIndex, Int64Index\n"
     ]
    }
   ],
   "source": [
    "# Import packages\n",
    "import matplotlib as mpl\n",
    "import matplotlib.pyplot as plt\n",
    "import seaborn as sns; sns.set()\n",
    "\n",
    "from sklearn.preprocessing import LabelEncoder\n",
    "from sklearn.preprocessing import StandardScaler\n",
    "from sklearn.model_selection import train_test_split\n",
    "from imblearn.under_sampling import RandomUnderSampler\n",
    "from sklearn.metrics import accuracy_score, f1_score, confusion_matrix, classification_report\n",
    "from sklearn.svm import SVC\n",
    "from sklearn.linear_model import LogisticRegression\n",
    "from xgboost import XGBClassifier, plot_importance\n",
    "from sklearn.model_selection import cross_validate\n",
    "from sklearn.model_selection import GridSearchCV\n",
    "\n",
    "\n",
    "%matplotlib inline"
   ],
   "metadata": {
    "collapsed": false,
    "pycharm": {
     "name": "#%%\n"
    }
   }
  },
  {
   "cell_type": "code",
   "execution_count": 22,
   "outputs": [],
   "source": [
    "customer_final_data = pd.read_excel('Data/customer_final_data.xlsx')\n",
    "transaction_final_data = pd.read_excel('Data/Transaction_final_data.xlsx')"
   ],
   "metadata": {
    "collapsed": false,
    "pycharm": {
     "name": "#%%\n"
    }
   }
  },
  {
   "cell_type": "code",
   "execution_count": 32,
   "outputs": [],
   "source": [
    "customer_final_data = customer_final_data.drop(columns=['Unnamed: 0'],axis=1)"
   ],
   "metadata": {
    "collapsed": false,
    "pycharm": {
     "name": "#%%\n"
    }
   }
  },
  {
   "cell_type": "code",
   "execution_count": 33,
   "outputs": [],
   "source": [
    "transaction_final_data = transaction_final_data.drop(columns=['Unnamed: 0'],axis=1)"
   ],
   "metadata": {
    "collapsed": false,
    "pycharm": {
     "name": "#%%\n"
    }
   }
  },
  {
   "cell_type": "code",
   "execution_count": 38,
   "outputs": [],
   "source": [
    "customer_final_data = customer_final_data.rename(columns={customer_final_data.columns[0]: 'Row_ID'})"
   ],
   "metadata": {
    "collapsed": false,
    "pycharm": {
     "name": "#%%\n"
    }
   }
  },
  {
   "cell_type": "code",
   "execution_count": 41,
   "outputs": [
    {
     "name": "stdout",
     "output_type": "stream",
     "text": [
      "(36386, 25)\n"
     ]
    },
    {
     "data": {
      "text/plain": "    Row_ID Coverage_Priority__c ZI_Company_Type__c  count  \\\n0        0            Uncovered            Unknown      2   \n1        1         Inside Sales            PRIVATE      8   \n2        2                  BDM             PUBLIC      5   \n3        3            Uncovered            Unknown     63   \n4        4                  BDM            PRIVATE     49   \n5        5                  BDM             PUBLIC     19   \n6        6            Uncovered            PRIVATE     59   \n7        7                  BDM            PRIVATE    111   \n8        8            Uncovered            PRIVATE     11   \n9        9         Inside Sales             PUBLIC     31   \n10      10                  BDM            PRIVATE    126   \n11      11            Uncovered            PRIVATE     24   \n12      12                  BDM             PUBLIC     80   \n13      13            Uncovered            PRIVATE     67   \n14      14            Uncovered            PRIVATE      7   \n15      15                  BDM             PUBLIC     31   \n16      16                  BDM            PRIVATE    555   \n17      17                  BDM             PUBLIC    123   \n18      18                  BDM             PUBLIC     90   \n19      19         Inside Sales             PUBLIC      3   \n\n    ZI_Number_Of_Locations__c  cumulative_sum_revenue  \\\n0                           2                    0.00   \n1                           5                 1308.98   \n2                         296                 1005.31   \n3                           2                32307.39   \n4                          16                16894.67   \n5                          51                20982.62   \n6                           8                35532.33   \n7                           2                31955.25   \n8                           6                 1156.57   \n9                        2243                19821.87   \n10                          2                35405.29   \n11                          3                 6000.29   \n12                        345                44158.14   \n13                          7                 8869.36   \n14                          2                  727.08   \n15                         40                31691.45   \n16                         69               234550.55   \n17                       1318               105806.33   \n18                       1318                36909.80   \n19                       5492                  115.86   \n\n    Platinum_Gold_Quality_Ratio  tenure      AvgCost  AvgQuantity  ...  \\\n0                   5000.000000      13     0.000000     0.000000  ...   \n1                   1538.461538     826   163.622500     4.375000  ...   \n2                      0.000000     638   201.062000    10.600000  ...   \n3                   1092.896175    2075   512.815714    78.634921  ...   \n4                   3302.752294    2015   344.789184    17.714286  ...   \n5                   2727.272727    1476  1104.348421   314.631579  ...   \n6                   1034.482759    2107   602.242881    20.423729  ...   \n7                   2010.309278    2165   287.885135    15.288288  ...   \n8                   2352.941176    1672   105.142727     4.909091  ...   \n9                    233.644860    2127   639.415161    27.161290  ...   \n10                  1858.156028    2174   280.994365    20.515873  ...   \n11                  2446.808511    1944   250.012083     9.208333  ...   \n12                  1063.829787    2038   551.976750    72.350000  ...   \n13                   804.597701    2198   132.378507    10.701493  ...   \n14                  5937.500000    1613   103.868571     2.571429  ...   \n15                  3181.818182    1248  1022.304839    51.000000  ...   \n16                  3885.077187    2202   422.613604    57.149550  ...   \n17                   339.805825    1518   860.214065    45.813008  ...   \n18                  1471.861472    1449   410.108889    27.244444  ...   \n19                  4000.000000      80    38.620000     2.333333  ...   \n\n    Family_Industry_Description_New__c  Territory__c  compliance_score  \\\n0                           Unassigned          WEST               Low   \n1                             Chemical       MIDWEST              High   \n2                  Pharma & Healthcare       MIDWEST              High   \n3                     Mining Oil & Gas  Mid-Atlantic              High   \n4                             Chemical          WEST              High   \n5                             Chemical     SOUTHEAST              High   \n6                     Mining Oil & Gas          WEST               Low   \n7                  Pharma & Healthcare     SOUTHEAST              High   \n8                             Chemical       UNKNOWN               Low   \n9                     Mining Oil & Gas          WEST              High   \n10                            Chemical       MIDWEST              High   \n11               Transport & Warehouse     NORTHEAST               Low   \n12                            Chemical     NORTHEAST              High   \n13                 Other Manufacturing       MIDWEST               Low   \n14                 Other Manufacturing     NORTHEAST               Low   \n15                 Pharma & Healthcare  Mid-Atlantic              High   \n16                    Mining Oil & Gas   GREAT LAKES              High   \n17                    Mining Oil & Gas   GREAT LAKES               Low   \n18                    Mining Oil & Gas   GREAT LAKES               Low   \n19                    Mining Oil & Gas          WEST            Medium   \n\n    Gradient_Revenue  time_between_sales_trend item_diversity_index  \\\n0            -517.54                         0             1.000000   \n1             159.70                       -41             1.625000   \n2             864.35                       609             2.600000   \n3           -1221.77                         2             2.857143   \n4             353.51                       212             2.183673   \n5           -1357.43                      -123             1.157895   \n6            -904.93                       877             1.440678   \n7            -106.71                        89             1.747748   \n8            -127.85                        31             1.545455   \n9             417.56                       114             6.741935   \n10           -375.56                       -24             5.523810   \n11           -179.18                       221             4.041667   \n12           2840.09                        65             2.887500   \n13            463.68                        38             1.253731   \n14             10.20                        12             1.000000   \n15          -5165.20                         0             2.838710   \n16            -81.93                        -7             2.066667   \n17           -725.47                       253             1.577236   \n18            396.96                       259             2.500000   \n19            -64.90                       -78             1.000000   \n\n     Client_revenue plat_gold_per_transaction  churn_standard  \\\n0             other                  0.500000               1   \n1    $10mil-$100mil                  0.250000               1   \n2        Over $5bil                  0.000000               1   \n3             other                  0.317460               0   \n4             other                  0.734694               1   \n5        Over $5bil                  0.315789               1   \n6   $100mil-$500mil                  0.152542               0   \n7    $10mil-$100mil                  0.351351               0   \n8   $100mil-$500mil                  0.363636               0   \n9        Over $5bil                  0.161290               0   \n10   $10mil-$100mil                  1.039683               0   \n11  $100mil-$500mil                  0.958333               0   \n12       Over $5bil                  0.312500               1   \n13   $10mil-$100mil                  0.104478               0   \n14     $1mil-$10mil                  2.714286               0   \n15    $500mil-$5bil                  0.677419               1   \n16       Over $5bil                  0.816216               0   \n17       Over $5bil                  0.056911               1   \n18       Over $5bil                  0.377778               1   \n19       Over $5bil                  0.666667               1   \n\n              Tier__c  \n0               TIER8  \n1               TIER7  \n2   TIER2-TrailBlazer  \n3         TIER5-Scout  \n4       TIER3-Pioneer  \n5   TIER2-TrailBlazer  \n6         TIER5-Scout  \n7               TIER6  \n8               TIER8  \n9   TIER2-TrailBlazer  \n10    TIER1-Commander  \n11              TIER7  \n12    TIER1-Commander  \n13              TIER7  \n14              TIER8  \n15      TIER3-Pioneer  \n16      TIER3-Pioneer  \n17    TIER1-Commander  \n18    TIER1-Commander  \n19      TIER3-Pioneer  \n\n[20 rows x 25 columns]",
      "text/html": "<div>\n<style scoped>\n    .dataframe tbody tr th:only-of-type {\n        vertical-align: middle;\n    }\n\n    .dataframe tbody tr th {\n        vertical-align: top;\n    }\n\n    .dataframe thead th {\n        text-align: right;\n    }\n</style>\n<table border=\"1\" class=\"dataframe\">\n  <thead>\n    <tr style=\"text-align: right;\">\n      <th></th>\n      <th>Row_ID</th>\n      <th>Coverage_Priority__c</th>\n      <th>ZI_Company_Type__c</th>\n      <th>count</th>\n      <th>ZI_Number_Of_Locations__c</th>\n      <th>cumulative_sum_revenue</th>\n      <th>Platinum_Gold_Quality_Ratio</th>\n      <th>tenure</th>\n      <th>AvgCost</th>\n      <th>AvgQuantity</th>\n      <th>...</th>\n      <th>Family_Industry_Description_New__c</th>\n      <th>Territory__c</th>\n      <th>compliance_score</th>\n      <th>Gradient_Revenue</th>\n      <th>time_between_sales_trend</th>\n      <th>item_diversity_index</th>\n      <th>Client_revenue</th>\n      <th>plat_gold_per_transaction</th>\n      <th>churn_standard</th>\n      <th>Tier__c</th>\n    </tr>\n  </thead>\n  <tbody>\n    <tr>\n      <th>0</th>\n      <td>0</td>\n      <td>Uncovered</td>\n      <td>Unknown</td>\n      <td>2</td>\n      <td>2</td>\n      <td>0.00</td>\n      <td>5000.000000</td>\n      <td>13</td>\n      <td>0.000000</td>\n      <td>0.000000</td>\n      <td>...</td>\n      <td>Unassigned</td>\n      <td>WEST</td>\n      <td>Low</td>\n      <td>-517.54</td>\n      <td>0</td>\n      <td>1.000000</td>\n      <td>other</td>\n      <td>0.500000</td>\n      <td>1</td>\n      <td>TIER8</td>\n    </tr>\n    <tr>\n      <th>1</th>\n      <td>1</td>\n      <td>Inside Sales</td>\n      <td>PRIVATE</td>\n      <td>8</td>\n      <td>5</td>\n      <td>1308.98</td>\n      <td>1538.461538</td>\n      <td>826</td>\n      <td>163.622500</td>\n      <td>4.375000</td>\n      <td>...</td>\n      <td>Chemical</td>\n      <td>MIDWEST</td>\n      <td>High</td>\n      <td>159.70</td>\n      <td>-41</td>\n      <td>1.625000</td>\n      <td>$10mil-$100mil</td>\n      <td>0.250000</td>\n      <td>1</td>\n      <td>TIER7</td>\n    </tr>\n    <tr>\n      <th>2</th>\n      <td>2</td>\n      <td>BDM</td>\n      <td>PUBLIC</td>\n      <td>5</td>\n      <td>296</td>\n      <td>1005.31</td>\n      <td>0.000000</td>\n      <td>638</td>\n      <td>201.062000</td>\n      <td>10.600000</td>\n      <td>...</td>\n      <td>Pharma &amp; Healthcare</td>\n      <td>MIDWEST</td>\n      <td>High</td>\n      <td>864.35</td>\n      <td>609</td>\n      <td>2.600000</td>\n      <td>Over $5bil</td>\n      <td>0.000000</td>\n      <td>1</td>\n      <td>TIER2-TrailBlazer</td>\n    </tr>\n    <tr>\n      <th>3</th>\n      <td>3</td>\n      <td>Uncovered</td>\n      <td>Unknown</td>\n      <td>63</td>\n      <td>2</td>\n      <td>32307.39</td>\n      <td>1092.896175</td>\n      <td>2075</td>\n      <td>512.815714</td>\n      <td>78.634921</td>\n      <td>...</td>\n      <td>Mining Oil &amp; Gas</td>\n      <td>Mid-Atlantic</td>\n      <td>High</td>\n      <td>-1221.77</td>\n      <td>2</td>\n      <td>2.857143</td>\n      <td>other</td>\n      <td>0.317460</td>\n      <td>0</td>\n      <td>TIER5-Scout</td>\n    </tr>\n    <tr>\n      <th>4</th>\n      <td>4</td>\n      <td>BDM</td>\n      <td>PRIVATE</td>\n      <td>49</td>\n      <td>16</td>\n      <td>16894.67</td>\n      <td>3302.752294</td>\n      <td>2015</td>\n      <td>344.789184</td>\n      <td>17.714286</td>\n      <td>...</td>\n      <td>Chemical</td>\n      <td>WEST</td>\n      <td>High</td>\n      <td>353.51</td>\n      <td>212</td>\n      <td>2.183673</td>\n      <td>other</td>\n      <td>0.734694</td>\n      <td>1</td>\n      <td>TIER3-Pioneer</td>\n    </tr>\n    <tr>\n      <th>5</th>\n      <td>5</td>\n      <td>BDM</td>\n      <td>PUBLIC</td>\n      <td>19</td>\n      <td>51</td>\n      <td>20982.62</td>\n      <td>2727.272727</td>\n      <td>1476</td>\n      <td>1104.348421</td>\n      <td>314.631579</td>\n      <td>...</td>\n      <td>Chemical</td>\n      <td>SOUTHEAST</td>\n      <td>High</td>\n      <td>-1357.43</td>\n      <td>-123</td>\n      <td>1.157895</td>\n      <td>Over $5bil</td>\n      <td>0.315789</td>\n      <td>1</td>\n      <td>TIER2-TrailBlazer</td>\n    </tr>\n    <tr>\n      <th>6</th>\n      <td>6</td>\n      <td>Uncovered</td>\n      <td>PRIVATE</td>\n      <td>59</td>\n      <td>8</td>\n      <td>35532.33</td>\n      <td>1034.482759</td>\n      <td>2107</td>\n      <td>602.242881</td>\n      <td>20.423729</td>\n      <td>...</td>\n      <td>Mining Oil &amp; Gas</td>\n      <td>WEST</td>\n      <td>Low</td>\n      <td>-904.93</td>\n      <td>877</td>\n      <td>1.440678</td>\n      <td>$100mil-$500mil</td>\n      <td>0.152542</td>\n      <td>0</td>\n      <td>TIER5-Scout</td>\n    </tr>\n    <tr>\n      <th>7</th>\n      <td>7</td>\n      <td>BDM</td>\n      <td>PRIVATE</td>\n      <td>111</td>\n      <td>2</td>\n      <td>31955.25</td>\n      <td>2010.309278</td>\n      <td>2165</td>\n      <td>287.885135</td>\n      <td>15.288288</td>\n      <td>...</td>\n      <td>Pharma &amp; Healthcare</td>\n      <td>SOUTHEAST</td>\n      <td>High</td>\n      <td>-106.71</td>\n      <td>89</td>\n      <td>1.747748</td>\n      <td>$10mil-$100mil</td>\n      <td>0.351351</td>\n      <td>0</td>\n      <td>TIER6</td>\n    </tr>\n    <tr>\n      <th>8</th>\n      <td>8</td>\n      <td>Uncovered</td>\n      <td>PRIVATE</td>\n      <td>11</td>\n      <td>6</td>\n      <td>1156.57</td>\n      <td>2352.941176</td>\n      <td>1672</td>\n      <td>105.142727</td>\n      <td>4.909091</td>\n      <td>...</td>\n      <td>Chemical</td>\n      <td>UNKNOWN</td>\n      <td>Low</td>\n      <td>-127.85</td>\n      <td>31</td>\n      <td>1.545455</td>\n      <td>$100mil-$500mil</td>\n      <td>0.363636</td>\n      <td>0</td>\n      <td>TIER8</td>\n    </tr>\n    <tr>\n      <th>9</th>\n      <td>9</td>\n      <td>Inside Sales</td>\n      <td>PUBLIC</td>\n      <td>31</td>\n      <td>2243</td>\n      <td>19821.87</td>\n      <td>233.644860</td>\n      <td>2127</td>\n      <td>639.415161</td>\n      <td>27.161290</td>\n      <td>...</td>\n      <td>Mining Oil &amp; Gas</td>\n      <td>WEST</td>\n      <td>High</td>\n      <td>417.56</td>\n      <td>114</td>\n      <td>6.741935</td>\n      <td>Over $5bil</td>\n      <td>0.161290</td>\n      <td>0</td>\n      <td>TIER2-TrailBlazer</td>\n    </tr>\n    <tr>\n      <th>10</th>\n      <td>10</td>\n      <td>BDM</td>\n      <td>PRIVATE</td>\n      <td>126</td>\n      <td>2</td>\n      <td>35405.29</td>\n      <td>1858.156028</td>\n      <td>2174</td>\n      <td>280.994365</td>\n      <td>20.515873</td>\n      <td>...</td>\n      <td>Chemical</td>\n      <td>MIDWEST</td>\n      <td>High</td>\n      <td>-375.56</td>\n      <td>-24</td>\n      <td>5.523810</td>\n      <td>$10mil-$100mil</td>\n      <td>1.039683</td>\n      <td>0</td>\n      <td>TIER1-Commander</td>\n    </tr>\n    <tr>\n      <th>11</th>\n      <td>11</td>\n      <td>Uncovered</td>\n      <td>PRIVATE</td>\n      <td>24</td>\n      <td>3</td>\n      <td>6000.29</td>\n      <td>2446.808511</td>\n      <td>1944</td>\n      <td>250.012083</td>\n      <td>9.208333</td>\n      <td>...</td>\n      <td>Transport &amp; Warehouse</td>\n      <td>NORTHEAST</td>\n      <td>Low</td>\n      <td>-179.18</td>\n      <td>221</td>\n      <td>4.041667</td>\n      <td>$100mil-$500mil</td>\n      <td>0.958333</td>\n      <td>0</td>\n      <td>TIER7</td>\n    </tr>\n    <tr>\n      <th>12</th>\n      <td>12</td>\n      <td>BDM</td>\n      <td>PUBLIC</td>\n      <td>80</td>\n      <td>345</td>\n      <td>44158.14</td>\n      <td>1063.829787</td>\n      <td>2038</td>\n      <td>551.976750</td>\n      <td>72.350000</td>\n      <td>...</td>\n      <td>Chemical</td>\n      <td>NORTHEAST</td>\n      <td>High</td>\n      <td>2840.09</td>\n      <td>65</td>\n      <td>2.887500</td>\n      <td>Over $5bil</td>\n      <td>0.312500</td>\n      <td>1</td>\n      <td>TIER1-Commander</td>\n    </tr>\n    <tr>\n      <th>13</th>\n      <td>13</td>\n      <td>Uncovered</td>\n      <td>PRIVATE</td>\n      <td>67</td>\n      <td>7</td>\n      <td>8869.36</td>\n      <td>804.597701</td>\n      <td>2198</td>\n      <td>132.378507</td>\n      <td>10.701493</td>\n      <td>...</td>\n      <td>Other Manufacturing</td>\n      <td>MIDWEST</td>\n      <td>Low</td>\n      <td>463.68</td>\n      <td>38</td>\n      <td>1.253731</td>\n      <td>$10mil-$100mil</td>\n      <td>0.104478</td>\n      <td>0</td>\n      <td>TIER7</td>\n    </tr>\n    <tr>\n      <th>14</th>\n      <td>14</td>\n      <td>Uncovered</td>\n      <td>PRIVATE</td>\n      <td>7</td>\n      <td>2</td>\n      <td>727.08</td>\n      <td>5937.500000</td>\n      <td>1613</td>\n      <td>103.868571</td>\n      <td>2.571429</td>\n      <td>...</td>\n      <td>Other Manufacturing</td>\n      <td>NORTHEAST</td>\n      <td>Low</td>\n      <td>10.20</td>\n      <td>12</td>\n      <td>1.000000</td>\n      <td>$1mil-$10mil</td>\n      <td>2.714286</td>\n      <td>0</td>\n      <td>TIER8</td>\n    </tr>\n    <tr>\n      <th>15</th>\n      <td>15</td>\n      <td>BDM</td>\n      <td>PUBLIC</td>\n      <td>31</td>\n      <td>40</td>\n      <td>31691.45</td>\n      <td>3181.818182</td>\n      <td>1248</td>\n      <td>1022.304839</td>\n      <td>51.000000</td>\n      <td>...</td>\n      <td>Pharma &amp; Healthcare</td>\n      <td>Mid-Atlantic</td>\n      <td>High</td>\n      <td>-5165.20</td>\n      <td>0</td>\n      <td>2.838710</td>\n      <td>$500mil-$5bil</td>\n      <td>0.677419</td>\n      <td>1</td>\n      <td>TIER3-Pioneer</td>\n    </tr>\n    <tr>\n      <th>16</th>\n      <td>16</td>\n      <td>BDM</td>\n      <td>PRIVATE</td>\n      <td>555</td>\n      <td>69</td>\n      <td>234550.55</td>\n      <td>3885.077187</td>\n      <td>2202</td>\n      <td>422.613604</td>\n      <td>57.149550</td>\n      <td>...</td>\n      <td>Mining Oil &amp; Gas</td>\n      <td>GREAT LAKES</td>\n      <td>High</td>\n      <td>-81.93</td>\n      <td>-7</td>\n      <td>2.066667</td>\n      <td>Over $5bil</td>\n      <td>0.816216</td>\n      <td>0</td>\n      <td>TIER3-Pioneer</td>\n    </tr>\n    <tr>\n      <th>17</th>\n      <td>17</td>\n      <td>BDM</td>\n      <td>PUBLIC</td>\n      <td>123</td>\n      <td>1318</td>\n      <td>105806.33</td>\n      <td>339.805825</td>\n      <td>1518</td>\n      <td>860.214065</td>\n      <td>45.813008</td>\n      <td>...</td>\n      <td>Mining Oil &amp; Gas</td>\n      <td>GREAT LAKES</td>\n      <td>Low</td>\n      <td>-725.47</td>\n      <td>253</td>\n      <td>1.577236</td>\n      <td>Over $5bil</td>\n      <td>0.056911</td>\n      <td>1</td>\n      <td>TIER1-Commander</td>\n    </tr>\n    <tr>\n      <th>18</th>\n      <td>18</td>\n      <td>BDM</td>\n      <td>PUBLIC</td>\n      <td>90</td>\n      <td>1318</td>\n      <td>36909.80</td>\n      <td>1471.861472</td>\n      <td>1449</td>\n      <td>410.108889</td>\n      <td>27.244444</td>\n      <td>...</td>\n      <td>Mining Oil &amp; Gas</td>\n      <td>GREAT LAKES</td>\n      <td>Low</td>\n      <td>396.96</td>\n      <td>259</td>\n      <td>2.500000</td>\n      <td>Over $5bil</td>\n      <td>0.377778</td>\n      <td>1</td>\n      <td>TIER1-Commander</td>\n    </tr>\n    <tr>\n      <th>19</th>\n      <td>19</td>\n      <td>Inside Sales</td>\n      <td>PUBLIC</td>\n      <td>3</td>\n      <td>5492</td>\n      <td>115.86</td>\n      <td>4000.000000</td>\n      <td>80</td>\n      <td>38.620000</td>\n      <td>2.333333</td>\n      <td>...</td>\n      <td>Mining Oil &amp; Gas</td>\n      <td>WEST</td>\n      <td>Medium</td>\n      <td>-64.90</td>\n      <td>-78</td>\n      <td>1.000000</td>\n      <td>Over $5bil</td>\n      <td>0.666667</td>\n      <td>1</td>\n      <td>TIER3-Pioneer</td>\n    </tr>\n  </tbody>\n</table>\n<p>20 rows × 25 columns</p>\n</div>"
     },
     "execution_count": 41,
     "metadata": {},
     "output_type": "execute_result"
    }
   ],
   "source": [
    "print(customer_final_data.shape)\n",
    "customer_final_data.head(20)"
   ],
   "metadata": {
    "collapsed": false,
    "pycharm": {
     "name": "#%%\n"
    }
   }
  },
  {
   "cell_type": "code",
   "execution_count": 40,
   "outputs": [
    {
     "data": {
      "text/plain": "(418280, 25)"
     },
     "execution_count": 40,
     "metadata": {},
     "output_type": "execute_result"
    }
   ],
   "source": [
    "transaction_final_data.shape"
   ],
   "metadata": {
    "collapsed": false,
    "pycharm": {
     "name": "#%%\n"
    }
   }
  },
  {
   "cell_type": "code",
   "execution_count": 46,
   "outputs": [
    {
     "name": "stdout",
     "output_type": "stream",
     "text": [
      "Counter({1: 19285, 0: 17101})\n"
     ]
    }
   ],
   "source": [
    "print(Counter(customer_final_data['churn_standard']))"
   ],
   "metadata": {
    "collapsed": false,
    "pycharm": {
     "name": "#%%\n"
    }
   }
  },
  {
   "cell_type": "code",
   "execution_count": 47,
   "outputs": [
    {
     "name": "stdout",
     "output_type": "stream",
     "text": [
      "Counter({0: 378014, 1: 40266})\n"
     ]
    }
   ],
   "source": [
    "print(Counter(transaction_final_data['churn_standard']))"
   ],
   "metadata": {
    "collapsed": false,
    "pycharm": {
     "name": "#%%\n"
    }
   }
  },
  {
   "cell_type": "code",
   "execution_count": 97,
   "outputs": [
    {
     "name": "stdout",
     "output_type": "stream",
     "text": [
      "1    19285\n",
      "0    17101\n",
      "Name: churn_standard, dtype: int64\n",
      "\n",
      "Total Churn Rate: 53.00%\n"
     ]
    }
   ],
   "source": [
    "print(customer_final_data['churn_standard'].value_counts())\n",
    "print('\\nTotal Churn Rate: {:.2%}'.format(customer_final_data[customer_final_data['churn_standard'] == 1].shape[0] / customer_final_data.shape[0]))"
   ],
   "metadata": {
    "collapsed": false,
    "pycharm": {
     "name": "#%%\n"
    }
   }
  },
  {
   "cell_type": "code",
   "execution_count": 98,
   "outputs": [
    {
     "name": "stdout",
     "output_type": "stream",
     "text": [
      "Client_revenue ['other' '$10mil-$100mil' 'Over $5bil' '$100mil-$500mil' '$1mil-$10mil'\n",
      " '$500mil-$5bil' 'Under $1mil']\n",
      "Coverage_Priority__c ['Uncovered' 'Inside Sales' 'BDM' 'Government' 'Government Contractor'\n",
      " 'Distributor' 'Spacemaster' 'Internal Customer' 'Strategic Distributor'\n",
      " 'Amazon']\n",
      "Family_Industry_Description_New__c ['Unassigned' 'Chemical' 'Pharma & Healthcare' 'Mining Oil & Gas'\n",
      " 'Transport & Warehouse' 'Other Manufacturing' 'Gov & Military'\n",
      " 'Agriculture & Food' 'Wholesale Trade' 'Waste Management' 'Automotive'\n",
      " 'Education' 'Aviation & Aerospace' 'Retail Trade' 'Transport Equipment'\n",
      " 'Services' 'Other' 'Technology']\n",
      "Territory__c ['WEST' 'MIDWEST' 'Mid-Atlantic' 'SOUTHEAST' 'UNKNOWN' 'NORTHEAST'\n",
      " 'GREAT LAKES' 'CANADA']\n",
      "Tier__c ['TIER8' 'TIER7' 'TIER2-TrailBlazer' 'TIER5-Scout' 'TIER3-Pioneer' 'TIER6'\n",
      " 'TIER1-Commander' 'GOVCON' 'TIER4-Explorer' 'SM3' 'GOV' 'SM1' 'SM2'\n",
      " 'DISTST' nan]\n",
      "ZI_Company_Type__c ['Unknown' 'PRIVATE' 'PUBLIC' 'GOVERNMENT' 'NPO' 'EDUCATION' 'OTHER'\n",
      " 'Private']\n",
      "compliance_score ['Low' 'High' 'Medium']\n"
     ]
    }
   ],
   "source": [
    "# unique values for each column containing a categorical feature\n",
    "def unique_values():\n",
    "    cat_columns = np.unique(customer_final_data.select_dtypes('object').columns)\n",
    "    for i in cat_columns:\n",
    "        print(i, customer_final_data[i].unique())\n",
    "\n",
    "unique_values()"
   ],
   "metadata": {
    "collapsed": false,
    "pycharm": {
     "name": "#%%\n"
    }
   }
  },
  {
   "cell_type": "code",
   "execution_count": 99,
   "outputs": [],
   "source": [
    "# list of binary variables, except 'Churn'\n",
    "bin_var = [col for col in customer_final_data.columns if len(customer_final_data[col].unique()) == 2 and col != 'Churn']\n",
    "\n",
    "# list of categorical variables\n",
    "cat_var = [col for col in customer_final_data.select_dtypes(['object']).columns.tolist() if col not in bin_var]"
   ],
   "metadata": {
    "collapsed": false,
    "pycharm": {
     "name": "#%%\n"
    }
   }
  },
  {
   "cell_type": "code",
   "execution_count": 100,
   "outputs": [
    {
     "name": "stdout",
     "output_type": "stream",
     "text": [
      "['churn_standard']\n"
     ]
    }
   ],
   "source": [
    "print(bin_var)"
   ],
   "metadata": {
    "collapsed": false,
    "pycharm": {
     "name": "#%%\n"
    }
   }
  },
  {
   "cell_type": "code",
   "execution_count": 101,
   "outputs": [
    {
     "name": "stdout",
     "output_type": "stream",
     "text": [
      "['Coverage_Priority__c', 'ZI_Company_Type__c', 'Family_Industry_Description_New__c', 'Territory__c', 'compliance_score', 'Client_revenue', 'Tier__c']\n"
     ]
    }
   ],
   "source": [
    "print(cat_var)"
   ],
   "metadata": {
    "collapsed": false,
    "pycharm": {
     "name": "#%%\n"
    }
   }
  },
  {
   "cell_type": "code",
   "execution_count": 102,
   "outputs": [
    {
     "data": {
      "text/plain": "   Row_ID  count  ZI_Number_Of_Locations__c  cumulative_sum_revenue  \\\n0       0      2                          2                    0.00   \n1       1      8                          5                 1308.98   \n2       2      5                        296                 1005.31   \n3       3     63                          2                32307.39   \n4       4     49                         16                16894.67   \n\n   Platinum_Gold_Quality_Ratio  tenure     AvgCost  AvgQuantity  \\\n0                  5000.000000      13    0.000000     0.000000   \n1                  1538.461538     826  163.622500     4.375000   \n2                     0.000000     638  201.062000    10.600000   \n3                  1092.896175    2075  512.815714    78.634921   \n4                  3302.752294    2015  344.789184    17.714286   \n\n   Popular_item_count  No.Of Managers  ...  Tier__c_SM2  Tier__c_SM3  \\\n0                   1             0.0  ...            0            0   \n1                   4             1.0  ...            0            0   \n2                   2            20.0  ...            0            0   \n3                   6             5.0  ...            0            0   \n4                   6             2.0  ...            0            0   \n\n   Tier__c_TIER1-Commander  Tier__c_TIER2-TrailBlazer  Tier__c_TIER3-Pioneer  \\\n0                        0                          0                      0   \n1                        0                          0                      0   \n2                        0                          1                      0   \n3                        0                          0                      0   \n4                        0                          0                      1   \n\n   Tier__c_TIER4-Explorer  Tier__c_TIER5-Scout  Tier__c_TIER6  Tier__c_TIER7  \\\n0                       0                    0              0              0   \n1                       0                    0              0              1   \n2                       0                    0              0              0   \n3                       0                    1              0              0   \n4                       0                    0              0              0   \n\n   Tier__c_TIER8  \n0              1  \n1              0  \n2              0  \n3              0  \n4              0  \n\n[5 rows x 86 columns]",
      "text/html": "<div>\n<style scoped>\n    .dataframe tbody tr th:only-of-type {\n        vertical-align: middle;\n    }\n\n    .dataframe tbody tr th {\n        vertical-align: top;\n    }\n\n    .dataframe thead th {\n        text-align: right;\n    }\n</style>\n<table border=\"1\" class=\"dataframe\">\n  <thead>\n    <tr style=\"text-align: right;\">\n      <th></th>\n      <th>Row_ID</th>\n      <th>count</th>\n      <th>ZI_Number_Of_Locations__c</th>\n      <th>cumulative_sum_revenue</th>\n      <th>Platinum_Gold_Quality_Ratio</th>\n      <th>tenure</th>\n      <th>AvgCost</th>\n      <th>AvgQuantity</th>\n      <th>Popular_item_count</th>\n      <th>No.Of Managers</th>\n      <th>...</th>\n      <th>Tier__c_SM2</th>\n      <th>Tier__c_SM3</th>\n      <th>Tier__c_TIER1-Commander</th>\n      <th>Tier__c_TIER2-TrailBlazer</th>\n      <th>Tier__c_TIER3-Pioneer</th>\n      <th>Tier__c_TIER4-Explorer</th>\n      <th>Tier__c_TIER5-Scout</th>\n      <th>Tier__c_TIER6</th>\n      <th>Tier__c_TIER7</th>\n      <th>Tier__c_TIER8</th>\n    </tr>\n  </thead>\n  <tbody>\n    <tr>\n      <th>0</th>\n      <td>0</td>\n      <td>2</td>\n      <td>2</td>\n      <td>0.00</td>\n      <td>5000.000000</td>\n      <td>13</td>\n      <td>0.000000</td>\n      <td>0.000000</td>\n      <td>1</td>\n      <td>0.0</td>\n      <td>...</td>\n      <td>0</td>\n      <td>0</td>\n      <td>0</td>\n      <td>0</td>\n      <td>0</td>\n      <td>0</td>\n      <td>0</td>\n      <td>0</td>\n      <td>0</td>\n      <td>1</td>\n    </tr>\n    <tr>\n      <th>1</th>\n      <td>1</td>\n      <td>8</td>\n      <td>5</td>\n      <td>1308.98</td>\n      <td>1538.461538</td>\n      <td>826</td>\n      <td>163.622500</td>\n      <td>4.375000</td>\n      <td>4</td>\n      <td>1.0</td>\n      <td>...</td>\n      <td>0</td>\n      <td>0</td>\n      <td>0</td>\n      <td>0</td>\n      <td>0</td>\n      <td>0</td>\n      <td>0</td>\n      <td>0</td>\n      <td>1</td>\n      <td>0</td>\n    </tr>\n    <tr>\n      <th>2</th>\n      <td>2</td>\n      <td>5</td>\n      <td>296</td>\n      <td>1005.31</td>\n      <td>0.000000</td>\n      <td>638</td>\n      <td>201.062000</td>\n      <td>10.600000</td>\n      <td>2</td>\n      <td>20.0</td>\n      <td>...</td>\n      <td>0</td>\n      <td>0</td>\n      <td>0</td>\n      <td>1</td>\n      <td>0</td>\n      <td>0</td>\n      <td>0</td>\n      <td>0</td>\n      <td>0</td>\n      <td>0</td>\n    </tr>\n    <tr>\n      <th>3</th>\n      <td>3</td>\n      <td>63</td>\n      <td>2</td>\n      <td>32307.39</td>\n      <td>1092.896175</td>\n      <td>2075</td>\n      <td>512.815714</td>\n      <td>78.634921</td>\n      <td>6</td>\n      <td>5.0</td>\n      <td>...</td>\n      <td>0</td>\n      <td>0</td>\n      <td>0</td>\n      <td>0</td>\n      <td>0</td>\n      <td>0</td>\n      <td>1</td>\n      <td>0</td>\n      <td>0</td>\n      <td>0</td>\n    </tr>\n    <tr>\n      <th>4</th>\n      <td>4</td>\n      <td>49</td>\n      <td>16</td>\n      <td>16894.67</td>\n      <td>3302.752294</td>\n      <td>2015</td>\n      <td>344.789184</td>\n      <td>17.714286</td>\n      <td>6</td>\n      <td>2.0</td>\n      <td>...</td>\n      <td>0</td>\n      <td>0</td>\n      <td>0</td>\n      <td>0</td>\n      <td>1</td>\n      <td>0</td>\n      <td>0</td>\n      <td>0</td>\n      <td>0</td>\n      <td>0</td>\n    </tr>\n  </tbody>\n</table>\n<p>5 rows × 86 columns</p>\n</div>"
     },
     "execution_count": 102,
     "metadata": {},
     "output_type": "execute_result"
    }
   ],
   "source": [
    "# apply Label Encoding for binaries\n",
    "le = LabelEncoder()\n",
    "for col in bin_var:\n",
    "    customer_final_data[col] = le.fit_transform(customer_final_data[col])\n",
    "\n",
    "# apply get_dummies for categorical\n",
    "df = pd.get_dummies(customer_final_data, columns=cat_var)\n",
    "\n",
    "df.head()"
   ],
   "metadata": {
    "collapsed": false,
    "pycharm": {
     "name": "#%%\n"
    }
   }
  },
  {
   "cell_type": "markdown",
   "source": [
    "## Splitting dataset"
   ],
   "metadata": {
    "collapsed": false
   }
  },
  {
   "cell_type": "code",
   "execution_count": 103,
   "outputs": [],
   "source": [
    "#from fast_ml.model_development import train_valid_test_split\n",
    "\n",
    "#X_train, y_train, X_valid, y_valid, X_test, y_test = train_valid_test_split(customer_final_data, target = 'churn_standard',train_size=0.8, valid_size=0.1, test_size=0.1)"
   ],
   "metadata": {
    "collapsed": false,
    "pycharm": {
     "name": "#%%\n"
    }
   }
  },
  {
   "cell_type": "code",
   "execution_count": 104,
   "outputs": [],
   "source": [
    "# feature matrix\n",
    "X = df.drop('churn_standard', axis=1)\n",
    "# target vector\n",
    "y = df['churn_standard']\n",
    "\n",
    "X_train, X_test, y_train, y_test = train_test_split(X, y)"
   ],
   "metadata": {
    "collapsed": false,
    "pycharm": {
     "name": "#%%\n"
    }
   }
  },
  {
   "cell_type": "code",
   "execution_count": 105,
   "outputs": [],
   "source": [
    "scaler = StandardScaler().fit(X_train)\n",
    "X_train = scaler.transform(X_train)"
   ],
   "metadata": {
    "collapsed": false,
    "pycharm": {
     "name": "#%%\n"
    }
   }
  },
  {
   "cell_type": "code",
   "execution_count": 106,
   "outputs": [],
   "source": [
    "rus = RandomUnderSampler()\n",
    "X_train_rus, y_train_rus = rus.fit_resample(X_train, y_train)"
   ],
   "metadata": {
    "collapsed": false,
    "pycharm": {
     "name": "#%%\n"
    }
   }
  },
  {
   "cell_type": "code",
   "execution_count": null,
   "outputs": [],
   "source": [
    "#check_df = pd.DataFrame(y_train_rus)\n",
    "#np.isnan(np.min(X_train_rus))"
   ],
   "metadata": {
    "collapsed": false,
    "pycharm": {
     "name": "#%%\n",
     "is_executing": true
    }
   }
  },
  {
   "cell_type": "code",
   "execution_count": 70,
   "outputs": [
    {
     "name": "stdout",
     "output_type": "stream",
     "text": [
      "<class 'pandas.core.frame.DataFrame'>\n",
      "RangeIndex: 25732 entries, 0 to 25731\n",
      "Data columns (total 1 columns):\n",
      " #   Column          Non-Null Count  Dtype\n",
      "---  ------          --------------  -----\n",
      " 0   churn_standard  25732 non-null  int64\n",
      "dtypes: int64(1)\n",
      "memory usage: 201.2 KB\n"
     ]
    }
   ],
   "source": [
    "#check_df.info()"
   ],
   "metadata": {
    "collapsed": false,
    "pycharm": {
     "name": "#%%\n"
    }
   }
  },
  {
   "cell_type": "code",
   "execution_count": null,
   "outputs": [],
   "source": [
    "svc = SVC(gamma='auto')\n",
    "lr = LogisticRegression()\n",
    "xgb = XGBClassifier()\n",
    "\n",
    "model = []\n",
    "cross_val = []\n",
    "recall = []\n",
    "for i in (svc, lr, xgb):\n",
    "    model.append(i.__class__.__name__)\n",
    "    cross_val.append(cross_validate(i, X_train_rus, y_train_rus, scoring='recall'))\n",
    "\n",
    "for d in range(len(cross_val)):\n",
    "    recall.append(cross_val[d]['test_score'].mean())\n"
   ],
   "metadata": {
    "collapsed": false,
    "pycharm": {
     "name": "#%%\n",
     "is_executing": true
    }
   }
  },
  {
   "cell_type": "code",
   "execution_count": 108,
   "outputs": [
    {
     "data": {
      "text/plain": "                      Recall\nSVC                      NaN\nLogisticRegression       NaN\nXGBClassifier       0.957752",
      "text/html": "<div>\n<style scoped>\n    .dataframe tbody tr th:only-of-type {\n        vertical-align: middle;\n    }\n\n    .dataframe tbody tr th {\n        vertical-align: top;\n    }\n\n    .dataframe thead th {\n        text-align: right;\n    }\n</style>\n<table border=\"1\" class=\"dataframe\">\n  <thead>\n    <tr style=\"text-align: right;\">\n      <th></th>\n      <th>Recall</th>\n    </tr>\n  </thead>\n  <tbody>\n    <tr>\n      <th>SVC</th>\n      <td>NaN</td>\n    </tr>\n    <tr>\n      <th>LogisticRegression</th>\n      <td>NaN</td>\n    </tr>\n    <tr>\n      <th>XGBClassifier</th>\n      <td>0.957752</td>\n    </tr>\n  </tbody>\n</table>\n</div>"
     },
     "execution_count": 108,
     "metadata": {},
     "output_type": "execute_result"
    }
   ],
   "source": [
    "model_recall = pd.DataFrame\n",
    "pd.DataFrame(data=recall, index=model, columns=['Recall'])\n"
   ],
   "metadata": {
    "collapsed": false,
    "pycharm": {
     "name": "#%%\n"
    }
   }
  },
  {
   "cell_type": "code",
   "execution_count": null,
   "outputs": [],
   "source": [
    "# XGBoost\n",
    "# parameter to be searched\n",
    "param_grid = {'n_estimators': range(0,1000,25)}\n",
    "\n",
    "# find the best parameter\n",
    "grid_search = GridSearchCV(xgb, param_grid, scoring='recall')\n",
    "grid_result = grid_search.fit(X_train_rus, y_train_rus)\n",
    "\n",
    "print(f'Best result: {grid_result.best_score_} for {grid_result.best_params_}')"
   ],
   "metadata": {
    "collapsed": false,
    "pycharm": {
     "name": "#%%\n",
     "is_executing": true
    }
   }
  },
  {
   "cell_type": "code",
   "execution_count": null,
   "outputs": [],
   "source": [
    "# XGBoost\n",
    "xgb = XGBClassifier(n_estimators=150) #use no of estimators from above\n",
    "\n",
    "# parameters to be searched\n",
    "param_grid = {'max_depth': range(1,8,1),\n",
    "              'min_child_weight': np.arange(0.0001, 0.5, 0.001)}\n",
    "\n",
    "# find the best parameters\n",
    "grid_search = GridSearchCV(xgb, param_grid, scoring='recall', n_jobs=-1)\n",
    "grid_result = grid_search.fit(X_train_rus, y_train_rus)\n",
    "\n",
    "print(f'Best result: {grid_result.best_score_} for {grid_result.best_params_}')"
   ],
   "metadata": {
    "collapsed": false,
    "pycharm": {
     "name": "#%%\n",
     "is_executing": true
    }
   }
  },
  {
   "cell_type": "code",
   "execution_count": null,
   "outputs": [],
   "source": [
    "# XGBoost\n",
    "xgb = XGBClassifier(n_estimators=150, max_depth=1, min_child_weight=0.0001) #use child_weight from above\n",
    "\n",
    "# parameter to be searched\n",
    "param_grid = {'gama': np.arange(0.0,20.0,0.05)}\n",
    "\n",
    "# find the best parameters\n",
    "grid_search = GridSearchCV(xgb, param_grid, scoring='recall', n_jobs=-1)\n",
    "grid_result = grid_search.fit(X_train_rus, y_train_rus)\n",
    "\n",
    "print(f'Best result: {grid_result.best_score_} for {grid_search.best_params_}')"
   ],
   "metadata": {
    "collapsed": false,
    "pycharm": {
     "name": "#%%\n"
    }
   }
  },
  {
   "cell_type": "code",
   "execution_count": null,
   "outputs": [],
   "source": [
    "# XGBoost\n",
    "xgb = XGBClassifier(n_estimators=150, max_depth=1, min_child_weight=0.0001, gama=0.0) #use feature from above\n",
    "\n",
    "# parameter to be searched\n",
    "param_grid = {'learning_rate': [0.0001, 0.01, 0.1, 1]}\n",
    "\n",
    "# find the best parameter\n",
    "grid_search = GridSearchCV(xgb, param_grid, scoring='recall')\n",
    "grid_result = grid_search.fit(X_train_rus, y_train_rus)\n",
    "\n",
    "print(f'Best result: {grid_search.best_score_} for {grid_search.best_params_}')"
   ],
   "metadata": {
    "collapsed": false,
    "pycharm": {
     "name": "#%%\n"
    }
   }
  },
  {
   "cell_type": "code",
   "execution_count": null,
   "outputs": [],
   "source": [
    "# final XGBoost model\n",
    "xgb = XGBClassifier(learning_rate=0.0001, n_estimators=150, max_depth=1, min_child_weight=0.0001, gamma=0) #use learning rate from above\n",
    "xgb.fit(X_train_rus, y_train_rus)\n",
    "\n",
    "# prediction\n",
    "X_test_xgb = scaler.transform(X_test)\n",
    "y_pred_xgb = xgb.predict(X_test_xgb)\n",
    "\n",
    "# classification report\n",
    "print(classification_report(y_test, y_pred_xgb))\n",
    "\n",
    "# confusion matrix\n",
    "fig, ax = plt.subplots()\n",
    "sns.heatmap(confusion_matrix(y_test, y_pred_xgb, normalize='true'), annot=True, ax=ax)\n",
    "ax.set_title('Confusion Matrix')\n",
    "ax.set_ylabel('Real Value')\n",
    "ax.set_xlabel('Predicted Value')\n",
    "\n",
    "plt.show()"
   ],
   "metadata": {
    "collapsed": false,
    "pycharm": {
     "name": "#%%\n"
    }
   }
  }
 ],
 "metadata": {
  "kernelspec": {
   "display_name": "Python 3",
   "language": "python",
   "name": "python3"
  },
  "language_info": {
   "codemirror_mode": {
    "name": "ipython",
    "version": 2
   },
   "file_extension": ".py",
   "mimetype": "text/x-python",
   "name": "python",
   "nbconvert_exporter": "python",
   "pygments_lexer": "ipython2",
   "version": "2.7.6"
  }
 },
 "nbformat": 4,
 "nbformat_minor": 0
}