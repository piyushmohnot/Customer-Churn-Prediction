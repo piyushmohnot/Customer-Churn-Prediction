{
 "cells": [
  {
   "cell_type": "markdown",
   "metadata": {},
   "source": [
    "Loading Libraries"
   ]
  },
  {
   "cell_type": "code",
   "execution_count": 1,
   "metadata": {},
   "outputs": [],
   "source": [
    "import matplotlib.pyplot as plt # plotting\n",
    "import numpy as np # linear algebra\n",
    "import pandas as pd  # import pandas library and give it an alias of pd\n",
    "from scipy.stats import norm, kurtosis\n",
    "import seaborn as sns\n",
    "import math\n",
    "import plotly.express as px"
   ]
  },
  {
   "cell_type": "markdown",
   "metadata": {},
   "source": [
    "## Preparing Consolidated Sales Data"
   ]
  },
  {
   "cell_type": "markdown",
   "metadata": {},
   "source": [
    "Importing Sales Data"
   ]
  },
  {
   "cell_type": "code",
   "execution_count": 2,
   "metadata": {},
   "outputs": [],
   "source": [
    "sales1 = pd.read_excel ('Data/Labelmaster Sales Data.xlsx',sheet_name=0)\n",
    "sales2 = pd.read_excel ('Data/Labelmaster Sales Data.xlsx',sheet_name=1)"
   ]
  },
  {
   "cell_type": "markdown",
   "metadata": {},
   "source": [
    "Merging Sales Data"
   ]
  },
  {
   "cell_type": "code",
   "execution_count": 3,
   "metadata": {},
   "outputs": [],
   "source": [
    "sales = pd.concat([sales1,sales2])"
   ]
  },
  {
   "cell_type": "markdown",
   "metadata": {},
   "source": [
    "Working towards new primary key Customer_time. This will be treated as a single observation"
   ]
  },
  {
   "cell_type": "code",
   "execution_count": 1159,
   "metadata": {},
   "outputs": [],
   "source": [
    "sales[\"customer_time\"] = sales[\"Customer No\"].astype(str) + sales[\"Posting Date\"].astype(str)"
   ]
  },
  {
   "cell_type": "markdown",
   "metadata": {},
   "source": [
    "Filtering customers having customer no empty or blank"
   ]
  },
  {
   "cell_type": "code",
   "execution_count": 1160,
   "metadata": {},
   "outputs": [],
   "source": [
    "sales = sales[sales['Customer No'].apply(len) == 7]"
   ]
  },
  {
   "cell_type": "markdown",
   "metadata": {},
   "source": [
    "Consolidating the data transaction wise (Based on customer_time)"
   ]
  },
  {
   "cell_type": "code",
   "execution_count": 164,
   "metadata": {},
   "outputs": [
    {
     "name": "stderr",
     "output_type": "stream",
     "text": [
      "C:\\Users\\areeb\\AppData\\Local\\Temp/ipykernel_20280/3511125281.py:1: FutureWarning: Indexing with multiple keys (implicitly converted to a tuple of keys) will be deprecated, use a list instead.\n",
      "  sales_consolidated = sales.groupby(['customer_time'])['Quantity Ordered','Line Item Amount'].sum().reset_index()\n"
     ]
    }
   ],
   "source": [
    "sales_consolidated = sales.groupby(['customer_time'])['Quantity Ordered','Line Item Amount'].sum().reset_index()\n",
    "sales_consolidated1 = sales.groupby(['customer_time'])['Quantity Ordered','Line Item Amount'].sum().reset_index()"
   ]
  },
  {
   "cell_type": "code",
   "execution_count": 217,
   "metadata": {},
   "outputs": [],
   "source": [
    "sales_consolidated1['Customer No'] = sales_consolidated1['customer_time'].str[:7]\n",
    "sales_consolidated1['Posting Date'] = sales_consolidated1['customer_time'].str[7:]\n",
    "sales_consolidated['Customer No'] = sales_consolidated['customer_time'].str[:7]\n",
    "sales_consolidated['Posting Date'] = sales_consolidated['customer_time'].str[7:]\n"
   ]
  },
  {
   "cell_type": "markdown",
   "metadata": {},
   "source": [
    "Bringing next order/transaction date against the existing transaction"
   ]
  },
  {
   "cell_type": "code",
   "execution_count": 166,
   "metadata": {},
   "outputs": [],
   "source": [
    "sales_consolidated.loc[sales_consolidated['Customer No'] == sales_consolidated['Customer No'].shift(-1),'next_order_date'] = sales_consolidated['Posting Date'].shift(-1) \n",
    "sales_consolidated.loc[sales_consolidated['next_order_date'].isnull(),'next_order_date'] = pd.to_datetime('today')\n",
    "\n",
    "sales_consolidated['next_order_date'] = pd.to_datetime(sales_consolidated['next_order_date'])\n",
    "sales_consolidated['Posting Date']=pd.to_datetime(sales_consolidated['Posting Date'])\n",
    "\n",
    "#Computing time to order in days\n",
    "\n",
    "sales_consolidated['time_to_order'] = sales_consolidated['next_order_date'] - sales_consolidated['Posting Date']\n",
    "sales_consolidated['time_to_order'] = sales_consolidated['time_to_order']/np.timedelta64(1,'D')\n",
    "\n",
    "#Forcing the minimum order time to be 30 days\n",
    "sales_consolidated.loc[sales_consolidated['time_to_order'] < 30,'time_to_order'] = 30"
   ]
  },
  {
   "cell_type": "markdown",
   "metadata": {},
   "source": [
    "Assigning each customer an ID and counting the number of transactions for each customer "
   ]
  },
  {
   "cell_type": "code",
   "execution_count": 171,
   "metadata": {},
   "outputs": [],
   "source": [
    "sales_consolidated['block'] = (sales_consolidated['Customer No'] != sales_consolidated['Customer No'].shift(1)).astype(int).cumsum()\n",
    "sales_consolidated['count'] = sales_consolidated.groupby((sales_consolidated['Customer No'] != sales_consolidated['Customer No'].shift(1)).cumsum()).cumcount()+1"
   ]
  },
  {
   "cell_type": "markdown",
   "metadata": {},
   "source": [
    "Computing expected purchase window for each customer"
   ]
  },
  {
   "cell_type": "code",
   "execution_count": 173,
   "metadata": {},
   "outputs": [],
   "source": [
    "sales_consolidated['cumulative_sum_time'] = sales_consolidated.groupby('Customer No')['time_to_order'].cumsum()\n",
    "sales_consolidated.loc[sales_consolidated['Customer No'] == sales_consolidated['Customer No'].shift(1),'cumulative_sum_time_shifted'] = sales_consolidated['cumulative_sum_time'].shift(1) \n",
    "sales_consolidated.loc[sales_consolidated['Customer No'] == sales_consolidated['Customer No'].shift(1),'count_shifted'] = sales_consolidated['count'].shift(1) \n",
    "sales_consolidated.loc[sales_consolidated['count'] > 1, 'expected_purchase_window'] = sales_consolidated['cumulative_sum_time_shifted']/sales_consolidated['count_shifted']\n",
    "sales_consolidated.drop(['cumulative_sum_time', 'cumulative_sum_time_shifted','count_shifted'], axis=1, inplace=True)"
   ]
  },
  {
   "cell_type": "markdown",
   "metadata": {},
   "source": [
    "Checking the distribution of expected purchase time between the first and second sale for all customers. "
   ]
  },
  {
   "cell_type": "code",
   "execution_count": 179,
   "metadata": {},
   "outputs": [
    {
     "data": {
      "image/png": "[encoded data removed]",
      "text/plain": [
       "<Figure size 432x288 with 1 Axes>"
      ]
     },
     "metadata": {
      "needs_background": "light"
     },
     "output_type": "display_data"
    }
   ],
   "source": [
    "s = sales_consolidated.loc[sales_consolidated['count'] == 2]['expected_purchase_window']\n",
    "from matplotlib.ticker import PercentFormatter\n",
    "plt.hist(s, weights=np.ones(len(s)) / len(s), bins = 20)\n",
    "plt.gca().yaxis.set_major_formatter(PercentFormatter(1))\n",
    "plt.xticks(np.arange(min(s), max(s), 200))\n",
    "plt.show()"
   ]
  },
  {
   "cell_type": "markdown",
   "metadata": {},
   "source": [
    "60-70% of customers take less than 100 days between their 1st and 2nd sale"
   ]
  },
  {
   "cell_type": "markdown",
   "metadata": {},
   "source": [
    "Setting expected purchase window = 60 for the first transaction based on the graph above"
   ]
  },
  {
   "cell_type": "code",
   "execution_count": 178,
   "metadata": {},
   "outputs": [],
   "source": [
    "sales_consolidated.loc[sales_consolidated['count'] == 1, 'expected_purchase_window'] = 60"
   ]
  },
  {
   "cell_type": "markdown",
   "metadata": {},
   "source": [
    "Computing time to churn standard based on static multiplier of 4"
   ]
  },
  {
   "cell_type": "code",
   "execution_count": 180,
   "metadata": {},
   "outputs": [],
   "source": [
    "sales_consolidated['time_to_churn_standard'] = sales_consolidated['expected_purchase_window']*4"
   ]
  },
  {
   "cell_type": "markdown",
   "metadata": {},
   "source": [
    "Churn standard"
   ]
  },
  {
   "cell_type": "code",
   "execution_count": 181,
   "metadata": {},
   "outputs": [],
   "source": [
    "sales_consolidated.loc[sales_consolidated['time_to_order'] < sales_consolidated['time_to_churn_standard'], 'churn_standard'] = 0\n",
    "sales_consolidated.loc[sales_consolidated['time_to_order'] >= sales_consolidated['time_to_churn_standard'], 'churn_standard'] = 1"
   ]
  },
  {
   "cell_type": "markdown",
   "metadata": {},
   "source": [
    "Marking last transaction for all the customer and removing single transaction customers"
   ]
  },
  {
   "cell_type": "code",
   "execution_count": 183,
   "metadata": {},
   "outputs": [],
   "source": [
    "m1 = ~sales_consolidated.duplicated(['Customer No'], keep='last')\n",
    "m2 = sales_consolidated.duplicated(['Customer No'], keep=False)\n",
    "m = m1 & m2\n",
    "sales_consolidated.loc[m, 'last'] = 'true'\n",
    "\n",
    "sales_consolidated = sales_consolidated[sales_consolidated.duplicated('block',keep=False)]"
   ]
  },
  {
   "cell_type": "code",
   "execution_count": null,
   "metadata": {},
   "outputs": [],
   "source": [
    "sales_consolidated['Customer No'].nunique()/sales_consolidated1['Customer No'].nunique()"
   ]
  },
  {
   "cell_type": "markdown",
   "metadata": {},
   "source": [
    "We only have 39.1% such customers who have repeated entries or with repeated transactions. 60.9% customers only buy once from labelmaster."
   ]
  },
  {
   "cell_type": "markdown",
   "metadata": {},
   "source": [
    "### Churn Modified & Churn Score"
   ]
  },
  {
   "cell_type": "markdown",
   "metadata": {},
   "source": [
    "Making column time to churn modified and churn modified based on modified multiplier"
   ]
  },
  {
   "cell_type": "code",
   "execution_count": 254,
   "metadata": {},
   "outputs": [],
   "source": [
    "sales_consolidated.loc[(sales_consolidated['expected_purchase_window'] > 0) & (sales_consolidated['expected_purchase_window'] <= 60), 'time_to_churn_modified'] = sales_consolidated['time_to_churn_standard']\n",
    "sales_consolidated.loc[(sales_consolidated['expected_purchase_window'] > 60) & (sales_consolidated['expected_purchase_window'] <= 120), 'time_to_churn_modified'] = sales_consolidated['expected_purchase_window']*3\n",
    "sales_consolidated.loc[(sales_consolidated['expected_purchase_window'] > 120) & (sales_consolidated['expected_purchase_window'] <= 240), 'time_to_churn_modified'] = sales_consolidated['expected_purchase_window']*2\n",
    "sales_consolidated.loc[(sales_consolidated['expected_purchase_window'] > 240), 'time_to_churn_modified'] = sales_consolidated['expected_purchase_window']"
   ]
  },
  {
   "cell_type": "code",
   "execution_count": 255,
   "metadata": {},
   "outputs": [],
   "source": [
    "sales_consolidated.loc[sales_consolidated['time_to_order'] < sales_consolidated['time_to_churn_modified'], 'churn_modified'] = 0\n",
    "sales_consolidated.loc[sales_consolidated['time_to_order'] >= sales_consolidated['time_to_churn_modified'], 'churn_modified'] = 1"
   ]
  },
  {
   "cell_type": "markdown",
   "metadata": {},
   "source": [
    "Making churn score column. This basically tells us about the state of the customer at a particular point in time"
   ]
  },
  {
   "cell_type": "code",
   "execution_count": 259,
   "metadata": {},
   "outputs": [],
   "source": [
    "sales_consolidated['churn_score'] = sales_consolidated['time_to_order']/sales_consolidated['time_to_churn_standard']*100\n",
    "sales_consolidated.loc[sales_consolidated['churn_score'] > 100,'churn_score'] = 100"
   ]
  },
  {
   "cell_type": "code",
   "execution_count": 261,
   "metadata": {},
   "outputs": [],
   "source": [
    "sales_consolidated.loc[(sales_consolidated['churn_score'] < 25),'churn alarm'] = 'Normal'\n",
    "sales_consolidated.loc[(sales_consolidated['churn_score'] >= 25) & (sales_consolidated['churn_score'] < 50),'churn alarm'] = 'slightly concerning'\n",
    "sales_consolidated.loc[(sales_consolidated['churn_score'] >= 50) & (sales_consolidated['churn_score'] < 75),'churn alarm'] = 'very concerning'\n",
    "sales_consolidated.loc[(sales_consolidated['churn_score'] >=75),'churn alarm'] = 'critical'"
   ]
  },
  {
   "cell_type": "markdown",
   "metadata": {},
   "source": [
    "## Some Basic Churn Analysis"
   ]
  },
  {
   "cell_type": "markdown",
   "metadata": {},
   "source": [
    "Checking year wise churn rate of repeated customers"
   ]
  },
  {
   "cell_type": "code",
   "execution_count": 394,
   "metadata": {},
   "outputs": [],
   "source": [
    "sales_consolidated['year'] = pd.DatetimeIndex(sales_consolidated['Posting Date']).year\n",
    "churned_year = sales_consolidated.loc[(sales_consolidated['churn_standard'] == 1) & (sales_consolidated['last'] == 'true') , ['Customer No','year']]\n",
    "churned_year = churned_year.groupby('year').count()\n",
    "customer_year = sales_consolidated.groupby('year')['Customer No'].nunique()\n",
    "year_wise_churn = churned_year['Customer No']/customer_year*100"
   ]
  },
  {
   "cell_type": "code",
   "execution_count": 395,
   "metadata": {},
   "outputs": [],
   "source": [
    "year_wise_churn = year_wise_churn.to_frame().reset_index()"
   ]
  },
  {
   "cell_type": "code",
   "execution_count": 397,
   "metadata": {},
   "outputs": [
    {
     "data": {
      "image/png": "[encoded data removed]",
      "text/plain": [
       "<Figure size 720x360 with 1 Axes>"
      ]
     },
     "metadata": {
      "needs_background": "light"
     },
     "output_type": "display_data"
    }
   ],
   "source": [
    "fig = plt.figure(figsize = (10, 5))\n",
    " \n",
    "# creating the bar plot\n",
    "plt.bar(year_wise_churn['year'], year_wise_churn['Customer No'], color ='maroon',\n",
    "        width = 0.4)\n",
    " \n",
    "plt.xlabel(\"Year\")\n",
    "plt.ylabel(\"Churn Percentage\")\n",
    "plt.title(\"Year-wise Churn Percentage\")\n",
    "plt.show()"
   ]
  },
  {
   "cell_type": "code",
   "execution_count": 413,
   "metadata": {},
   "outputs": [
    {
     "data": {
      "text/plain": [
       "Customer No    0.48395\n",
       "dtype: float64"
      ]
     },
     "execution_count": 413,
     "metadata": {},
     "output_type": "execute_result"
    }
   ],
   "source": [
    "sales_consolidated.loc[(sales_consolidated['churn_standard'] == 1) & (sales_consolidated['last'] == 'true') & (sales_consolidated['Posting Date'] < '2021-04-01')  , ['Customer No']].nunique()/sales_consolidated['Customer No'].nunique()"
   ]
  },
  {
   "cell_type": "markdown",
   "metadata": {},
   "source": [
    "Checking distribution of how much time it takes to make another order for churn and non-churn customers"
   ]
  },
  {
   "cell_type": "code",
   "execution_count": 416,
   "metadata": {},
   "outputs": [
    {
     "data": {
      "image/png": "[encoded data removed]",
      "text/plain": [
       "<Figure size 1280x800 with 1 Axes>"
      ]
     },
     "metadata": {
      "needs_background": "light"
     },
     "output_type": "display_data"
    }
   ],
   "source": [
    "\n",
    "plt.figure(figsize=(16,10), dpi= 80)\n",
    "sns.kdeplot(sales_consolidated.loc[sales_consolidated['churn_standard'] == 1, \"time_to_order\"], shade=True, color=\"orange\", label=\"churn\", alpha=.7)\n",
    "sns.kdeplot(sales_consolidated.loc[sales_consolidated['churn_standard'] == 0, \"time_to_order\"], shade=True, color=\"dodgerblue\", label=\"no churn\", alpha=.7)\n",
    "\n",
    "# Decoration\n",
    "plt.title('Density Plot time to order for churn vs no churn', fontsize=22)\n",
    "plt.ylabel('density')\n",
    "plt.xlabel('time to order')\n",
    "plt.legend()\n",
    "plt.show()"
   ]
  },
  {
   "cell_type": "code",
   "execution_count": 417,
   "metadata": {},
   "outputs": [
    {
     "data": {
      "text/plain": [
       "churn_standard\n",
       "0.0     78.783705\n",
       "1.0    862.878481\n",
       "Name: time_to_order, dtype: float64"
      ]
     },
     "execution_count": 417,
     "metadata": {},
     "output_type": "execute_result"
    }
   ],
   "source": [
    "sales_consolidated.groupby('churn_standard')['time_to_order'].mean()"
   ]
  },
  {
   "cell_type": "code",
   "execution_count": 251,
   "metadata": {},
   "outputs": [
    {
     "data": {
      "text/plain": [
       "132.19681919691985"
      ]
     },
     "execution_count": 251,
     "metadata": {},
     "output_type": "execute_result"
    }
   ],
   "source": [
    "import statistics\n",
    "statistics.stdev(sales_consolidated.loc[sales_consolidated['churn_standard'] == 0, \"time_to_order\"])"
   ]
  },
  {
   "cell_type": "markdown",
   "metadata": {},
   "source": [
    "We need to test the hypothesis whether the amount spent per transaction has an impact on the time to order."
   ]
  },
  {
   "cell_type": "code",
   "execution_count": 424,
   "metadata": {},
   "outputs": [
    {
     "data": {
      "text/plain": [
       "-0.022106686870308413"
      ]
     },
     "execution_count": 424,
     "metadata": {},
     "output_type": "execute_result"
    },
    {
     "data": {
      "image/png": "[encoded data removed]",
      "text/plain": [
       "<Figure size 432x288 with 1 Axes>"
      ]
     },
     "metadata": {
      "needs_background": "light"
     },
     "output_type": "display_data"
    }
   ],
   "source": [
    "amount = sales_consolidated['Line Item Amount'].sub(sales_consolidated['Line Item Amount'].mean())\n",
    "order_time = sales_consolidated['time_to_order'].sub(sales_consolidated['time_to_order'].mean())\n",
    "\n",
    "plt.scatter(x = sales_consolidated['time_to_order'] , y = sales_consolidated['Line Item Amount'])\n",
    "\n",
    "correlation = sales_consolidated['time_to_order'] .corr(sales_consolidated['Line Item Amount'])\n",
    "correlation"
   ]
  },
  {
   "cell_type": "markdown",
   "metadata": {},
   "source": [
    "There is no obvious trend or correlation between the two"
   ]
  },
  {
   "cell_type": "markdown",
   "metadata": {},
   "source": [
    "## Account Data Merging with Sales"
   ]
  },
  {
   "cell_type": "code",
   "execution_count": 1196,
   "metadata": {},
   "outputs": [],
   "source": [
    "account = pd.read_excel ('Data/Labelmaster Account Data.xlsx')"
   ]
  },
  {
   "cell_type": "code",
   "execution_count": 1197,
   "metadata": {},
   "outputs": [],
   "source": [
    "account = account.rename(columns={\"AccountNumber\": \"Customer No\"})"
   ]
  },
  {
   "cell_type": "markdown",
   "metadata": {},
   "source": [
    "Bringing extra accounts data information in consolidated data"
   ]
  },
  {
   "cell_type": "code",
   "execution_count": 291,
   "metadata": {},
   "outputs": [
    {
     "data": {
      "text/plain": [
       "customer_time                    0.000000\n",
       "Quantity Ordered                 0.000000\n",
       "Line Item Amount                 0.000000\n",
       "Customer No                      0.000000\n",
       "Posting Date                     0.000000\n",
       "next_order_date                  0.000000\n",
       "time_to_order                    0.000000\n",
       "block                            0.000000\n",
       "count                            0.000000\n",
       "expected_purchase_window         0.000000\n",
       "time_to_churn_standard           0.000000\n",
       "churn_standard                   0.000000\n",
       "last                            91.301042\n",
       "year                             0.000000\n",
       "time_to_churn_modified           0.000000\n",
       "churn_modified                   0.000000\n",
       "churn_score                      0.000000\n",
       "churn alarm                      0.000000\n",
       "Id                               0.001913\n",
       "CreatedDate                      0.001913\n",
       "LastActivityDate                28.560295\n",
       "Coverage_Priority__c             0.001913\n",
       "FamilyCode_FNT__c                0.001913\n",
       "HQ_State__c                      6.107631\n",
       "ZI_Industry__c                  11.887253\n",
       "ZI_Company_Revenue_Range__c     12.114134\n",
       "ZI_Company_Ranking__c           75.092283\n",
       "ZI_Company_Employee_Range__c    10.545807\n",
       "Tier__c                          0.001913\n",
       "ZI_Company_Type__c              13.232763\n",
       "ZI_Number_Of_Locations__c       30.154442\n",
       "ZI_Technologies__c              66.618533\n",
       "dtype: float64"
      ]
     },
     "execution_count": 291,
     "metadata": {},
     "output_type": "execute_result"
    }
   ],
   "source": [
    "sales_account = pd.merge(sales_consolidated,\n",
    "                 account,\n",
    "                 on='Customer No', \n",
    "                 how='left')\n",
    "sales_account.isnull().mean() * 100 #Checking join percentage"
   ]
  },
  {
   "cell_type": "markdown",
   "metadata": {},
   "source": [
    "Making customer wise table side by side"
   ]
  },
  {
   "cell_type": "code",
   "execution_count": 431,
   "metadata": {},
   "outputs": [],
   "source": [
    "sales_consolidated_lasttransaction = sales_account.loc[sales_account['last'] == 'true']"
   ]
  },
  {
   "cell_type": "markdown",
   "metadata": {},
   "source": [
    "### Churn Rate vs Tier "
   ]
  },
  {
   "cell_type": "code",
   "execution_count": 459,
   "metadata": {},
   "outputs": [],
   "source": [
    "tier_wise_churn_rate = sales_consolidated_lasttransaction.groupby(['year','Tier__c'])['churn_standard'].sum().reset_index()\n",
    "tier_wise_churn = tier_wise_churn_rate.loc[(tier_wise_churn_rate.Tier__c != 'GOV')\n",
    "                                                &(tier_wise_churn_rate.Tier__c != 'GOVCON')]"
   ]
  },
  {
   "cell_type": "code",
   "execution_count": 469,
   "metadata": {},
   "outputs": [],
   "source": [
    "year_count = sales_account.groupby(['year','Tier__c'])['Customer No'].nunique().reset_index()\n",
    "tier_wise_churn = pd.merge(tier_wise_churn,\n",
    "                 year_count,\n",
    "                 on=('year','Tier__c'), \n",
    "                 how='left')\n",
    "\n",
    "tier_wise_churn['churn_rate'] = tier_wise_churn['churn_standard']/tier_wise_churn['Customer No']*100\n",
    "tier_2020 = tier_wise_churn.loc[tier_wise_churn['year'] == 2020]\n",
    "tier_2021 = tier_wise_churn.loc[tier_wise_churn['year'] == 2021]"
   ]
  },
  {
   "cell_type": "code",
   "execution_count": 806,
   "metadata": {},
   "outputs": [
    {
     "data": {
      "image/png": "[encoded data removed]",
      "text/plain": [
       "<Figure size 1080x720 with 1 Axes>"
      ]
     },
     "metadata": {
      "needs_background": "light"
     },
     "output_type": "display_data"
    }
   ],
   "source": [
    "fig = plt.figure(figsize = (15, 10))\n",
    "\n",
    "# creating the bar plot\n",
    "plt.bar(tier_2020['Tier__c'], tier_2020['churn_rate'], color ='blue',\n",
    "        width = 0.4)\n",
    "\n",
    "plt.xticks(rotation=90)\n",
    "plt.xlabel(\"Tier\")\n",
    "plt.ylabel(\"Churn Percentage\")\n",
    "plt.title(\"Tier wise churn rate\")\n",
    "plt.show()"
   ]
  },
  {
   "cell_type": "code",
   "execution_count": 808,
   "metadata": {},
   "outputs": [
    {
     "data": {
      "image/png": "[encoded data removed]",
      "text/plain": [
       "<Figure size 1080x720 with 1 Axes>"
      ]
     },
     "metadata": {
      "needs_background": "light"
     },
     "output_type": "display_data"
    }
   ],
   "source": [
    "fig = plt.figure(figsize = (15, 10))\n",
    "\n",
    "# creating the bar plot\n",
    "plt.bar(tier_2021['Tier__c'], tier_2021['churn_rate'], color ='blue',\n",
    "        width = 0.4)\n",
    "\n",
    "plt.xticks(rotation=90)\n",
    "plt.xlabel(\"Tier\")\n",
    "plt.ylabel(\"Churn Percentage\")\n",
    "plt.title(\"Tier wise churn rate\")\n",
    "plt.show()"
   ]
  },
  {
   "cell_type": "markdown",
   "metadata": {},
   "source": [
    "The tier wise churn rate looks concerning and isn't what was expected. "
   ]
  },
  {
   "cell_type": "markdown",
   "metadata": {},
   "source": [
    "### Churn Rate vs Custom Client Revenue Ranges"
   ]
  },
  {
   "cell_type": "markdown",
   "metadata": {},
   "source": [
    "Merging Company Revenue Ranges for better view"
   ]
  },
  {
   "cell_type": "code",
   "execution_count": 570,
   "metadata": {},
   "outputs": [],
   "source": [
    "sales_account.loc[(sales_account['ZI_Company_Revenue_Range__c'] == 'Under $500,000') | (sales_account['ZI_Company_Revenue_Range__c'] == '$500,000 - $1 mil.'), 'Client_revenue'] = 'Under $1mil'\n",
    "sales_account.loc[(sales_account['ZI_Company_Revenue_Range__c'] == '$1 mil. - $5 mil.') | (sales_account['ZI_Company_Revenue_Range__c'] == '$5 mil. - $10 mil.'), 'Client_revenue'] = '$1mil-$10mil'\n",
    "sales_account.loc[(sales_account['ZI_Company_Revenue_Range__c'] == '$10 mil. - $25 mil.') | (sales_account['ZI_Company_Revenue_Range__c'] == '$25 mil. - $50 mil.')| (sales_account['ZI_Company_Revenue_Range__c'] == '$50 mil. - $100 mil.'), 'Client_revenue'] = '$10mil-$100mil'\n",
    "sales_account.loc[(sales_account['ZI_Company_Revenue_Range__c'] == '$100 mil. - $250 mil.') | (sales_account['ZI_Company_Revenue_Range__c'] == '$250 mil. - $500 mil.'), 'Client_revenue'] = '$100mil-$500mil'\n",
    "sales_account.loc[(sales_account['ZI_Company_Revenue_Range__c'] == '$500 mil. - $1 bil.'), 'Client_revenue'] = '$500mil-$1bil'\n",
    "sales_account.loc[(sales_account['ZI_Company_Revenue_Range__c'] == 'Over $5 bil.'), 'Client_revenue'] = 'Over $5bil'\n"
   ]
  },
  {
   "cell_type": "code",
   "execution_count": 576,
   "metadata": {},
   "outputs": [],
   "source": [
    "sales_consolidated_lasttransaction = sales_account.loc[sales_account['last'] == 'true']\n",
    "Client_revenue = sales_consolidated_lasttransaction.groupby(['Client_revenue','year'])['churn_standard'].sum().reset_index()\n",
    "year_count = sales_account.groupby(['year','Client_revenue'])['Customer No'].nunique().reset_index()\n",
    "\n",
    "Client_revenue = pd.merge(Client_revenue,\n",
    "                 year_count,\n",
    "                 on=('year','Client_revenue'), \n",
    "                 how='left')\n",
    "\n",
    "Client_revenue['churn_rate'] = Client_revenue['churn_standard']/Client_revenue['Customer No']*100\n",
    "\n",
    "Client_revenue_2020 = Client_revenue.loc[Client_revenue['year'] == 2020]\n",
    "Client_revenue_2021 = Client_revenue.loc[Client_revenue['year'] == 2021]"
   ]
  },
  {
   "cell_type": "code",
   "execution_count": 813,
   "metadata": {},
   "outputs": [
    {
     "data": {
      "image/png": "[encoded data removed]",
      "text/plain": [
       "<Figure size 1080x720 with 1 Axes>"
      ]
     },
     "metadata": {
      "needs_background": "light"
     },
     "output_type": "display_data"
    }
   ],
   "source": [
    "fig = plt.figure(figsize = (15, 10))\n",
    "\n",
    "# creating the bar plot\n",
    "plt.bar(Client_revenue_2021['Client_revenue'], Client_revenue_2021['churn_rate'], color ='blue',\n",
    "        width = 0.4)\n",
    "\n",
    "plt.xticks(rotation=90)\n",
    "plt.xlabel(\"Company Revenue\")\n",
    "plt.ylabel(\"Churn Percentage\")\n",
    "plt.title(\"Company Revenue wise churn rate\")\n",
    "plt.show()"
   ]
  },
  {
   "cell_type": "code",
   "execution_count": 814,
   "metadata": {},
   "outputs": [
    {
     "data": {
      "image/png": "[encoded data removed]",
      "text/plain": [
       "<Figure size 1080x720 with 1 Axes>"
      ]
     },
     "metadata": {
      "needs_background": "light"
     },
     "output_type": "display_data"
    }
   ],
   "source": [
    "fig = plt.figure(figsize = (15, 10))\n",
    "\n",
    "# creating the bar plot\n",
    "plt.bar(Client_revenue_2020['Client_revenue'], Client_revenue_2020['churn_rate'], color ='blue',\n",
    "        width = 0.4)\n",
    "\n",
    "plt.xticks(rotation=90)\n",
    "plt.xlabel(\"Company Revenue\")\n",
    "plt.ylabel(\"Churn Percentage\")\n",
    "plt.title(\"Company Revenue wise churn rate\")\n",
    "plt.show()"
   ]
  },
  {
   "cell_type": "markdown",
   "metadata": {},
   "source": [
    "### Churn Rate vs CLV Buckets"
   ]
  },
  {
   "cell_type": "markdown",
   "metadata": {},
   "source": [
    "Checking Churn Rate trend CLV wise and making CLV buckets"
   ]
  },
  {
   "cell_type": "code",
   "execution_count": 361,
   "metadata": {},
   "outputs": [],
   "source": [
    "sales_account['cumulative_sum_revenue'] = sales_account.groupby('Customer No')['Line Item Amount'].cumsum()\n",
    "\n",
    "sales_account.loc[(sales_account['cumulative_sum_revenue'] < 1000), 'revenue_bucket'] = 1\n",
    "sales_account.loc[(sales_account['cumulative_sum_revenue'] >= 1000) & (sales_account['cumulative_sum_revenue'] < 2500), 'revenue_bucket'] = 2\n",
    "sales_account.loc[(sales_account['cumulative_sum_revenue'] >= 2500) & (sales_account['cumulative_sum_revenue'] <= 5000), 'revenue_bucket'] = 3\n",
    "sales_account.loc[(sales_account['cumulative_sum_revenue'] > 5000) & (sales_account['cumulative_sum_revenue'] <= 10000), 'revenue_bucket'] = 4                               \n",
    "sales_account.loc[(sales_account['cumulative_sum_revenue'] > 10000), 'revenue_bucket'] = 5"
   ]
  },
  {
   "cell_type": "code",
   "execution_count": 524,
   "metadata": {},
   "outputs": [],
   "source": [
    "sales_consolidated_lasttransaction = sales_account.loc[sales_account['last'] == 'true']\n",
    "revenue_churn = sales_consolidated_lasttransaction.groupby(['revenue_bucket','year'])['churn_standard'].sum().reset_index()\n",
    "year_count = sales_account.groupby(['year','revenue_bucket'])['Customer No'].nunique().reset_index()\n",
    "\n",
    "revenue_churn = pd.merge(revenue_churn,\n",
    "                 year_count,\n",
    "                 on=('year','revenue_bucket'), \n",
    "                 how='left')\n",
    "\n",
    "revenue_churn['churn_rate'] = revenue_churn['churn_standard']/revenue_churn['Customer No']*100\n",
    "\n",
    "revenue_churn_2020 = revenue_churn.loc[revenue_churn['year'] == 2020]\n",
    "revenue_churn_2021 = revenue_churn.loc[revenue_churn['year'] == 2021]"
   ]
  },
  {
   "cell_type": "code",
   "execution_count": 587,
   "metadata": {},
   "outputs": [
    {
     "data": {
      "image/png": "[encoded data removed]",
      "text/plain": [
       "<Figure size 720x720 with 1 Axes>"
      ]
     },
     "metadata": {
      "needs_background": "light"
     },
     "output_type": "display_data"
    }
   ],
   "source": [
    "fig = plt.figure(figsize = (10, 10))\n",
    "\n",
    "# creating the bar plot\n",
    "plt.bar(revenue_churn_2021['revenue_bucket'], revenue_churn_2021['churn_rate'], color ='blue',\n",
    "        width = 0.4)\n",
    "\n",
    "plt.xlabel(\"Revenue Earned Buckets\")\n",
    "plt.ylabel(\"Churn Percentage\")\n",
    "plt.title(\"Revenue bucket wise churn rate\")\n",
    "plt.show()"
   ]
  },
  {
   "cell_type": "code",
   "execution_count": 588,
   "metadata": {},
   "outputs": [
    {
     "data": {
      "image/png": "[encoded data removed]",
      "text/plain": [
       "<Figure size 720x720 with 1 Axes>"
      ]
     },
     "metadata": {
      "needs_background": "light"
     },
     "output_type": "display_data"
    }
   ],
   "source": [
    "fig = plt.figure(figsize = (10, 10))\n",
    "\n",
    "# creating the bar plot\n",
    "plt.bar(revenue_churn_2020['revenue_bucket'], revenue_churn_2020['churn_rate'], color ='blue',\n",
    "        width = 0.4)\n",
    "\n",
    "plt.xlabel(\"Revenue Earned Buckets\")\n",
    "plt.ylabel(\"Churn Percentage\")\n",
    "plt.title(\"Revenue bucket wise churn rate\")\n",
    "plt.show()"
   ]
  },
  {
   "cell_type": "markdown",
   "metadata": {},
   "source": [
    "### Churn Rate vs Number of Transactions"
   ]
  },
  {
   "cell_type": "markdown",
   "metadata": {},
   "source": [
    "Checking Churn Rate as a function of number of transaction. "
   ]
  },
  {
   "cell_type": "code",
   "execution_count": 607,
   "metadata": {},
   "outputs": [],
   "source": [
    "labels_4 = ['first_quintile', 'second_quintile', 'third_quintile', 'fourth_quintile','fifth_quintile']\n",
    "sales_account['count_group'] = pd.qcut(sales_account['count'],q=[0,0.2,0.4,0.6,0.8,1],labels=labels_4)\n",
    "\n",
    "sales_consolidated_lasttransaction = sales_account.loc[sales_account['last'] == 'true']\n",
    "count_churn = sales_consolidated_lasttransaction.groupby(['count_group','year'])['churn_standard'].sum().reset_index()\n",
    "year_count = sales_account.groupby(['year','count_group'])['Customer No'].nunique().reset_index()\n",
    "\n",
    "count_churn = pd.merge(count_churn,\n",
    "                 year_count,\n",
    "                 on=('year','count_group'), \n",
    "                 how='left')\n",
    "\n",
    "count_churn['churn_rate'] = count_churn['churn_standard']/count_churn['Customer No']*100\n",
    "\n",
    "count_churn2020 = count_churn.loc[count_churn['year'] == 2020]\n",
    "count_churn2021 = count_churn.loc[count_churn['year'] == 2021]"
   ]
  },
  {
   "cell_type": "code",
   "execution_count": 615,
   "metadata": {},
   "outputs": [
    {
     "data": {
      "image/png": "[encoded data removed]",
      "text/plain": [
       "<Figure size 720x720 with 1 Axes>"
      ]
     },
     "metadata": {
      "needs_background": "light"
     },
     "output_type": "display_data"
    }
   ],
   "source": [
    "fig = plt.figure(figsize = (10, 10))\n",
    "\n",
    "# creating the bar plot\n",
    "plt.bar(count_churn2021['count_group'], count_churn2021['churn_rate'], color ='blue',\n",
    "        width = 0.4)\n",
    "\n",
    "plt.xlabel(\"Revenue Earned Buckets\")\n",
    "plt.ylabel(\"Churn Percentage\")\n",
    "plt.title(\"Revenue bucket wise churn rate\")\n",
    "plt.show()"
   ]
  },
  {
   "cell_type": "code",
   "execution_count": 815,
   "metadata": {},
   "outputs": [
    {
     "data": {
      "image/png": "[encoded data removed]",
      "text/plain": [
       "<Figure size 720x720 with 1 Axes>"
      ]
     },
     "metadata": {
      "needs_background": "light"
     },
     "output_type": "display_data"
    }
   ],
   "source": [
    "fig = plt.figure(figsize = (10, 10))\n",
    "\n",
    "# creating the bar plot\n",
    "plt.bar(count_churn2020['count_group'], count_churn2020['churn_rate'], color ='blue',\n",
    "        width = 0.4)\n",
    "\n",
    "plt.xlabel(\"Number of Transactions Quintiles\")\n",
    "plt.ylabel(\"Churn Percentage\")\n",
    "plt.title(\"Number of Transaction vs churn rate\")\n",
    "plt.show()"
   ]
  },
  {
   "cell_type": "code",
   "execution_count": 726,
   "metadata": {},
   "outputs": [],
   "source": [
    "sales_account['Platinum_Quality_Ratio'] = (sales_account['total_platinum_items'])/((sales_account['total_platinum_items'])\n",
    "                                                                                   +sales_account['total_gold_items']\n",
    "                                                                                   +sales_account['total_silver_items']\n",
    "                                                                                   +sales_account['total_Bronze_items']\n",
    "                                                                                   +sales_account['total_Metal_items'])*100\n",
    "\n",
    "sales_account['Platinum_Gold_Quality_Ratio'] = (sales_account['total_platinum_items']+sales_account['total_gold_items'])/((sales_account['total_platinum_items'])\n",
    "                                                                                   +sales_account['total_gold_items']\n",
    "                                                                                   +sales_account['total_silver_items']\n",
    "                                                                                   +sales_account['total_Bronze_items']\n",
    "                                                                                   +sales_account['total_Metal_items'])*100\n",
    "\n",
    "sales_account['Platinum_Quality_Ratio'] = sales_account['Platinum_Quality_Ratio']*100\n",
    "sales_account['Platinum_Gold_Quality_Ratio'] = sales_account['Platinum_Gold_Quality_Ratio']*100\n",
    "\n",
    "sales_account.loc[sales_account['total_platinum_items'] == 0, 'Platinum_bucket'] = '0'\n",
    "sales_account.loc[(sales_account['total_platinum_items'] >= 1) & (sales_account['total_platinum_items'] < 5), 'Platinum_bucket'] = '1-5'\n",
    "sales_account.loc[(sales_account['total_platinum_items'] >= 5), 'Platinum_bucket'] = '>5'\n",
    "\n",
    "sales_consolidated_lasttransaction = sales_account.loc[(sales_account['last'] == 'true')]"
   ]
  },
  {
   "cell_type": "code",
   "execution_count": 819,
   "metadata": {},
   "outputs": [],
   "source": [
    "platinum_churn = sales_consolidated_lasttransaction.groupby(['Platinum_bucket','year'])['churn_standard'].sum().reset_index()\n",
    "year_count = sales_account.groupby(['year','Platinum_bucket'])['Customer No'].nunique().reset_index()\n",
    "\n",
    "platinum_churn = pd.merge(platinum_churn,\n",
    "                 year_count,\n",
    "                 on=('year','Platinum_bucket'), \n",
    "                 how='left')\n",
    "\n",
    "platinum_churn['churn_rate'] = platinum_churn['churn_standard']/platinum_churn['Customer No']*100\n",
    "\n",
    "platinum_churn_2021 = platinum_churn.loc[platinum_churn['year'] == 2021]"
   ]
  },
  {
   "cell_type": "code",
   "execution_count": 824,
   "metadata": {},
   "outputs": [
    {
     "data": {
      "image/png": "[encoded data removed]",
      "text/plain": [
       "<Figure size 720x720 with 1 Axes>"
      ]
     },
     "metadata": {
      "needs_background": "light"
     },
     "output_type": "display_data"
    }
   ],
   "source": [
    "fig = plt.figure(figsize = (10, 10))\n",
    "\n",
    "# creating the bar plot\n",
    "plt.bar(platinum_churn_2021['Platinum_bucket'], platinum_churn_2021['churn_rate'], color ='blue',\n",
    "        width = 0.4)\n",
    "\n",
    "plt.xlabel(\"Number of Platinum Items Purchased\")\n",
    "plt.ylabel(\"Churn Percentage\")\n",
    "plt.title(\"Churn Rate vs Number of Platinum Items Purchased\")\n",
    "plt.show()"
   ]
  },
  {
   "cell_type": "code",
   "execution_count": 796,
   "metadata": {},
   "outputs": [],
   "source": [
    "sales_account.loc[sales_account['Platinum_Quality_Ratio'] == 0, 'Platinum_Quality_bucket'] = '0'\n",
    "sales_account.loc[(sales_account['Platinum_Quality_Ratio'] >= 1) & (sales_account['Platinum_Quality_Ratio'] < 25), 'Platinum_Quality_bucket'] = '1-25'\n",
    "sales_account.loc[(sales_account['Platinum_Quality_Ratio'] >= 25) & (sales_account['Platinum_Quality_Ratio'] <= 100), 'Platinum_Quality_bucket'] = '>25'\n",
    "\n",
    "sales_consolidated_lasttransaction = sales_account.loc[(sales_account['last'] == 'true')]"
   ]
  },
  {
   "cell_type": "code",
   "execution_count": 804,
   "metadata": {},
   "outputs": [],
   "source": [
    "platinum_churn = sales_consolidated_lasttransaction.groupby(['Platinum_Quality_bucket','year'])['churn_standard'].sum().reset_index()\n",
    "year_count = sales_account.groupby(['year','Platinum_Quality_bucket'])['Customer No'].nunique().reset_index()\n",
    "platinum_churn = pd.merge(platinum_churn,\n",
    "                 year_count,\n",
    "                 on=('year','Platinum_Quality_bucket'), \n",
    "                 how='left')\n",
    "\n",
    "platinum_churn['churn_rate'] = platinum_churn['churn_standard']/platinum_churn['Customer No']*100"
   ]
  },
  {
   "cell_type": "code",
   "execution_count": 805,
   "metadata": {},
   "outputs": [
    {
     "data": {
      "image/png": "[encoded data removed]",
      "text/plain": [
       "<Figure size 720x720 with 1 Axes>"
      ]
     },
     "metadata": {
      "needs_background": "light"
     },
     "output_type": "display_data"
    }
   ],
   "source": [
    "platinum_churn_2021 = platinum_churn.loc[platinum_churn['year'] == 2021]\n",
    "fig = plt.figure(figsize = (10, 10))\n",
    "\n",
    "# creating the bar plot\n",
    "plt.bar(platinum_churn_2021['Platinum_Quality_bucket'], platinum_churn_2021['churn_rate'], color ='blue',\n",
    "        width = 0.4)\n",
    "\n",
    "plt.xlabel(\"Revenue Earned Buckets\")\n",
    "plt.ylabel(\"Churn Percentage\")\n",
    "plt.title(\"Revenue bucket wise churn rate\")\n",
    "plt.show()"
   ]
  },
  {
   "cell_type": "markdown",
   "metadata": {},
   "source": [
    "##### Creating tenure feature"
   ]
  },
  {
   "cell_type": "code",
   "execution_count": 841,
   "metadata": {},
   "outputs": [],
   "source": [
    "first_sale = sales_account.loc[sales_account['count'] == 1][['Customer No','Posting Date']]\n",
    "first_sale = first_sale.rename(columns={\"Posting Date\": \"first_sale_date\"})\n",
    "sales_account = pd.merge(sales_account,\n",
    "                 first_sale,\n",
    "                 on=('Customer No'), \n",
    "                 how='left')\n",
    "\n",
    "sales_account['tenure'] = sales_account['Posting Date'] - sales_account['first_sale_date']\n",
    "sales_account['tenure'] = sales_account['tenure']/np.timedelta64(1,'D')\n",
    "\n",
    "sales_consolidated_lasttransaction = sales_account.loc[(sales_account['last'] == 'true')]"
   ]
  },
  {
   "cell_type": "code",
   "execution_count": 849,
   "metadata": {},
   "outputs": [
    {
     "data": {
      "text/plain": [
       "churn_standard\n",
       "0.0    1289.108969\n",
       "1.0     328.219767\n",
       "Name: tenure, dtype: float64"
      ]
     },
     "execution_count": 849,
     "metadata": {},
     "output_type": "execute_result"
    }
   ],
   "source": [
    "sales_consolidated_lasttransaction.groupby('churn_standard')['tenure'].mean()"
   ]
  },
  {
   "cell_type": "code",
   "execution_count": 850,
   "metadata": {},
   "outputs": [
    {
     "data": {
      "image/png": "[encoded data removed]",
      "text/plain": [
       "<Figure size 1280x800 with 1 Axes>"
      ]
     },
     "metadata": {
      "needs_background": "light"
     },
     "output_type": "display_data"
    }
   ],
   "source": [
    "plt.figure(figsize=(16,10), dpi= 80)\n",
    "sns.kdeplot(sales_consolidated_lasttransaction.loc[sales_consolidated_lasttransaction['churn_standard'] == 1, \"tenure\"], shade=True, color=\"orange\", label=\"churn\", alpha=.7)\n",
    "sns.kdeplot(sales_consolidated_lasttransaction.loc[sales_consolidated_lasttransaction['churn_standard'] == 0, \"tenure\"], shade=True, color=\"dodgerblue\", label=\"no_churn\", alpha=.7)\n",
    "\n",
    "# Decoration\n",
    "plt.title('Density Plot of churn versus tenure', fontsize=22)\n",
    "plt.ylabel('density')\n",
    "plt.xlabel('tenure')\n",
    "plt.legend()\n",
    "plt.show()"
   ]
  },
  {
   "cell_type": "markdown",
   "metadata": {},
   "source": [
    "Churned customers have a very less tenure. Non-churned customers have much larger tenure"
   ]
  },
  {
   "cell_type": "markdown",
   "metadata": {},
   "source": [
    "### Incorporating Different Features"
   ]
  },
  {
   "cell_type": "code",
   "execution_count": 1152,
   "metadata": {},
   "outputs": [
    {
     "data": {
      "text/html": [
       "<div>\n",
       "<style scoped>\n",
       "    .dataframe tbody tr th:only-of-type {\n",
       "        vertical-align: middle;\n",
       "    }\n",
       "\n",
       "    .dataframe tbody tr th {\n",
       "        vertical-align: top;\n",
       "    }\n",
       "\n",
       "    .dataframe thead th {\n",
       "        text-align: right;\n",
       "    }\n",
       "</style>\n",
       "<table border=\"1\" class=\"dataframe\">\n",
       "  <thead>\n",
       "    <tr style=\"text-align: right;\">\n",
       "      <th></th>\n",
       "      <th>customer_time</th>\n",
       "      <th>Quantity Ordered</th>\n",
       "      <th>Line Item Amount</th>\n",
       "      <th>Customer No</th>\n",
       "      <th>Posting Date</th>\n",
       "      <th>next_order_date</th>\n",
       "      <th>time_to_order</th>\n",
       "      <th>block</th>\n",
       "      <th>count</th>\n",
       "      <th>expected_purchase_window</th>\n",
       "      <th>...</th>\n",
       "      <th>total_silver_items</th>\n",
       "      <th>total_Bronze_items</th>\n",
       "      <th>total_Metal_items</th>\n",
       "      <th>Platinum_Quality_Ratio</th>\n",
       "      <th>Platinum_Gold_Quality_Ratio</th>\n",
       "      <th>Platinum_bucket</th>\n",
       "      <th>Platinum_Quality_bucket</th>\n",
       "      <th>first_sale_date</th>\n",
       "      <th>tenure</th>\n",
       "      <th>AvgCost</th>\n",
       "    </tr>\n",
       "  </thead>\n",
       "  <tbody>\n",
       "    <tr>\n",
       "      <th>0</th>\n",
       "      <td>00000012016-11-04</td>\n",
       "      <td>9</td>\n",
       "      <td>258.77</td>\n",
       "      <td>0000001</td>\n",
       "      <td>2016-11-04</td>\n",
       "      <td>2016-11-17 00:00:00.000000</td>\n",
       "      <td>30.0000</td>\n",
       "      <td>1</td>\n",
       "      <td>1</td>\n",
       "      <td>60.0</td>\n",
       "      <td>...</td>\n",
       "      <td>0.0</td>\n",
       "      <td>0.0</td>\n",
       "      <td>0.0</td>\n",
       "      <td>100.0</td>\n",
       "      <td>100.0</td>\n",
       "      <td>1-5</td>\n",
       "      <td>&gt;25</td>\n",
       "      <td>2016-11-04</td>\n",
       "      <td>0.0</td>\n",
       "      <td>258.770000</td>\n",
       "    </tr>\n",
       "    <tr>\n",
       "      <th>1</th>\n",
       "      <td>00000012016-11-17</td>\n",
       "      <td>-9</td>\n",
       "      <td>-258.77</td>\n",
       "      <td>0000001</td>\n",
       "      <td>2016-11-17</td>\n",
       "      <td>2022-02-09 13:56:03.802254</td>\n",
       "      <td>1910.5806</td>\n",
       "      <td>1</td>\n",
       "      <td>2</td>\n",
       "      <td>30.0</td>\n",
       "      <td>...</td>\n",
       "      <td>0.0</td>\n",
       "      <td>0.0</td>\n",
       "      <td>1.0</td>\n",
       "      <td>50.0</td>\n",
       "      <td>50.0</td>\n",
       "      <td>1-5</td>\n",
       "      <td>&gt;25</td>\n",
       "      <td>2016-11-04</td>\n",
       "      <td>13.0</td>\n",
       "      <td>0.000000</td>\n",
       "    </tr>\n",
       "    <tr>\n",
       "      <th>2</th>\n",
       "      <td>00000102016-04-27</td>\n",
       "      <td>3</td>\n",
       "      <td>138.70</td>\n",
       "      <td>0000010</td>\n",
       "      <td>2016-04-27</td>\n",
       "      <td>2016-06-08 00:00:00.000000</td>\n",
       "      <td>42.0000</td>\n",
       "      <td>2</td>\n",
       "      <td>1</td>\n",
       "      <td>60.0</td>\n",
       "      <td>...</td>\n",
       "      <td>1.0</td>\n",
       "      <td>0.0</td>\n",
       "      <td>0.0</td>\n",
       "      <td>0.0</td>\n",
       "      <td>0.0</td>\n",
       "      <td>0</td>\n",
       "      <td>0</td>\n",
       "      <td>2016-04-27</td>\n",
       "      <td>0.0</td>\n",
       "      <td>138.700000</td>\n",
       "    </tr>\n",
       "    <tr>\n",
       "      <th>3</th>\n",
       "      <td>00000102016-06-08</td>\n",
       "      <td>3</td>\n",
       "      <td>56.73</td>\n",
       "      <td>0000010</td>\n",
       "      <td>2016-06-08</td>\n",
       "      <td>2016-07-29 00:00:00.000000</td>\n",
       "      <td>51.0000</td>\n",
       "      <td>2</td>\n",
       "      <td>2</td>\n",
       "      <td>42.0</td>\n",
       "      <td>...</td>\n",
       "      <td>1.0</td>\n",
       "      <td>0.0</td>\n",
       "      <td>0.0</td>\n",
       "      <td>0.0</td>\n",
       "      <td>50.0</td>\n",
       "      <td>0</td>\n",
       "      <td>0</td>\n",
       "      <td>2016-04-27</td>\n",
       "      <td>42.0</td>\n",
       "      <td>97.715000</td>\n",
       "    </tr>\n",
       "    <tr>\n",
       "      <th>4</th>\n",
       "      <td>00000102016-07-29</td>\n",
       "      <td>5</td>\n",
       "      <td>289.80</td>\n",
       "      <td>0000010</td>\n",
       "      <td>2016-07-29</td>\n",
       "      <td>2016-10-18 00:00:00.000000</td>\n",
       "      <td>81.0000</td>\n",
       "      <td>2</td>\n",
       "      <td>3</td>\n",
       "      <td>46.5</td>\n",
       "      <td>...</td>\n",
       "      <td>2.0</td>\n",
       "      <td>1.0</td>\n",
       "      <td>0.0</td>\n",
       "      <td>0.0</td>\n",
       "      <td>25.0</td>\n",
       "      <td>0</td>\n",
       "      <td>0</td>\n",
       "      <td>2016-04-27</td>\n",
       "      <td>93.0</td>\n",
       "      <td>161.743333</td>\n",
       "    </tr>\n",
       "  </tbody>\n",
       "</table>\n",
       "<p>5 rows × 53 columns</p>\n",
       "</div>"
      ],
      "text/plain": [
       "       customer_time  Quantity Ordered  Line Item Amount Customer No  \\\n",
       "0  00000012016-11-04                 9            258.77     0000001   \n",
       "1  00000012016-11-17                -9           -258.77     0000001   \n",
       "2  00000102016-04-27                 3            138.70     0000010   \n",
       "3  00000102016-06-08                 3             56.73     0000010   \n",
       "4  00000102016-07-29                 5            289.80     0000010   \n",
       "\n",
       "  Posting Date            next_order_date  time_to_order  block  count  \\\n",
       "0   2016-11-04 2016-11-17 00:00:00.000000        30.0000      1      1   \n",
       "1   2016-11-17 2022-02-09 13:56:03.802254      1910.5806      1      2   \n",
       "2   2016-04-27 2016-06-08 00:00:00.000000        42.0000      2      1   \n",
       "3   2016-06-08 2016-07-29 00:00:00.000000        51.0000      2      2   \n",
       "4   2016-07-29 2016-10-18 00:00:00.000000        81.0000      2      3   \n",
       "\n",
       "   expected_purchase_window  ...  total_silver_items  total_Bronze_items  \\\n",
       "0                      60.0  ...                 0.0                 0.0   \n",
       "1                      30.0  ...                 0.0                 0.0   \n",
       "2                      60.0  ...                 1.0                 0.0   \n",
       "3                      42.0  ...                 1.0                 0.0   \n",
       "4                      46.5  ...                 2.0                 1.0   \n",
       "\n",
       "  total_Metal_items  Platinum_Quality_Ratio  Platinum_Gold_Quality_Ratio  \\\n",
       "0               0.0                   100.0                        100.0   \n",
       "1               1.0                    50.0                         50.0   \n",
       "2               0.0                     0.0                          0.0   \n",
       "3               0.0                     0.0                         50.0   \n",
       "4               0.0                     0.0                         25.0   \n",
       "\n",
       "   Platinum_bucket  Platinum_Quality_bucket first_sale_date tenure     AvgCost  \n",
       "0              1-5                      >25      2016-11-04    0.0  258.770000  \n",
       "1              1-5                      >25      2016-11-04   13.0    0.000000  \n",
       "2                0                        0      2016-04-27    0.0  138.700000  \n",
       "3                0                        0      2016-04-27   42.0   97.715000  \n",
       "4                0                        0      2016-04-27   93.0  161.743333  \n",
       "\n",
       "[5 rows x 53 columns]"
      ]
     },
     "execution_count": 1152,
     "metadata": {},
     "output_type": "execute_result"
    }
   ],
   "source": [
    "#Master data set for features\n",
    "features = sales_account\n",
    "features.head(5)"
   ]
  },
  {
   "cell_type": "markdown",
   "metadata": {},
   "source": [
    "##### Average Quantity Ordered, Total Quantity, Gradient Quantity, Total Cost and Average Cost"
   ]
  },
  {
   "cell_type": "code",
   "execution_count": 1153,
   "metadata": {},
   "outputs": [],
   "source": [
    "#1- Average Quantity of items ordered by the customer\n",
    "features['AvgQuantity'] = (\n",
    "    features.groupby('Customer No')['Quantity Ordered'].apply(lambda x: x.expanding().mean()))\n",
    "\n",
    "#2- Total number of items purchased by the customer till date\n",
    "features['TotalQuantity'] = (\n",
    "    features.groupby('Customer No')['Quantity Ordered'].cumsum())\n",
    "\n",
    "#3- Gradient of the number of products ordered by customer\n",
    "features['GradientQuantity'] = (\n",
    "    features.groupby('Customer No')['Quantity Ordered'].diff())\n",
    "\n",
    "#5- Total revenue generated by the customer to date/ CLV\n",
    "features['TotalCost'] = (\n",
    "    features.groupby('Customer No')['Line Item Amount'].cumsum())\n",
    "\n",
    "#6- Average revenue of the customer (Line amount/total orders) \n",
    "features['AvgCost'] = (\n",
    "    features.groupby('Customer No')['Line Item Amount'].apply(lambda x: x.expanding().mean()))"
   ]
  },
  {
   "cell_type": "markdown",
   "metadata": {},
   "source": [
    "##### Net Purchasing Interval Increasing or Decreasing Variable"
   ]
  },
  {
   "cell_type": "code",
   "execution_count": 1372,
   "metadata": {},
   "outputs": [],
   "source": [
    "sales_account.loc[sales_account['Customer No'] == sales_account['Customer No'].shift(1),'last_order_date'] = sales_account['Posting Date'].shift(1) \n",
    "\n",
    "sales_account['time_between_sales_trend'] = sales_account['Posting Date'] - sales_account['last_order_date']\n",
    "\n",
    "sales_account['time_between_sales_trend'] = sales_account['time_between_sales_trend']/np.timedelta64(1,'D')\n",
    "\n",
    "sales_account['time_between_sales_trend'] = (\n",
    "    sales_account.groupby('Customer No')['time_between_sales_trend'].diff())\n",
    "\n",
    "sales_account['time_between_sales_trend'] = (\n",
    "    sales_account.groupby('Customer No')['time_between_sales_trend'].cumsum())"
   ]
  },
  {
   "cell_type": "markdown",
   "metadata": {},
   "source": [
    "##### Net Sales Revenue Increasing or Decreasing"
   ]
  },
  {
   "cell_type": "code",
   "execution_count": 1335,
   "metadata": {},
   "outputs": [],
   "source": [
    "sales_account['Gradient_Revenue'] = (\n",
    "    features.groupby('Customer No')['Line Item Amount'].diff())\n",
    "sales_account['Gradient_Revenue'] = (\n",
    "    sales_account.groupby('Customer No')['Gradient_Revenue'].cumsum())\n",
    "\n",
    "sales_account[(sales_account['Gradient_Revenue'] < -50000) & (sales_account['last'] == 'true')]"
   ]
  },
  {
   "cell_type": "code",
   "execution_count": 1417,
   "metadata": {},
   "outputs": [
    {
     "data": {
      "text/html": [
       "<div>\n",
       "<style scoped>\n",
       "    .dataframe tbody tr th:only-of-type {\n",
       "        vertical-align: middle;\n",
       "    }\n",
       "\n",
       "    .dataframe tbody tr th {\n",
       "        vertical-align: top;\n",
       "    }\n",
       "\n",
       "    .dataframe thead th {\n",
       "        text-align: right;\n",
       "    }\n",
       "</style>\n",
       "<table border=\"1\" class=\"dataframe\">\n",
       "  <thead>\n",
       "    <tr style=\"text-align: right;\">\n",
       "      <th></th>\n",
       "      <th>Gradient_Revenue</th>\n",
       "      <th>time_between_sales_trend</th>\n",
       "    </tr>\n",
       "  </thead>\n",
       "  <tbody>\n",
       "    <tr>\n",
       "      <th>count</th>\n",
       "      <td>381894.000000</td>\n",
       "      <td>345508.000000</td>\n",
       "    </tr>\n",
       "    <tr>\n",
       "      <th>mean</th>\n",
       "      <td>-88.761105</td>\n",
       "      <td>1.428517</td>\n",
       "    </tr>\n",
       "    <tr>\n",
       "      <th>std</th>\n",
       "      <td>8913.396287</td>\n",
       "      <td>166.301134</td>\n",
       "    </tr>\n",
       "    <tr>\n",
       "      <th>min</th>\n",
       "      <td>-673743.610000</td>\n",
       "      <td>-2043.000000</td>\n",
       "    </tr>\n",
       "    <tr>\n",
       "      <th>25%</th>\n",
       "      <td>-209.990000</td>\n",
       "      <td>-17.000000</td>\n",
       "    </tr>\n",
       "    <tr>\n",
       "      <th>50%</th>\n",
       "      <td>0.870000</td>\n",
       "      <td>0.000000</td>\n",
       "    </tr>\n",
       "    <tr>\n",
       "      <th>75%</th>\n",
       "      <td>216.130000</td>\n",
       "      <td>21.000000</td>\n",
       "    </tr>\n",
       "    <tr>\n",
       "      <th>max</th>\n",
       "      <td>948345.300000</td>\n",
       "      <td>2072.000000</td>\n",
       "    </tr>\n",
       "  </tbody>\n",
       "</table>\n",
       "</div>"
      ],
      "text/plain": [
       "       Gradient_Revenue  time_between_sales_trend\n",
       "count     381894.000000             345508.000000\n",
       "mean         -88.761105                  1.428517\n",
       "std         8913.396287                166.301134\n",
       "min      -673743.610000              -2043.000000\n",
       "25%         -209.990000                -17.000000\n",
       "50%            0.870000                  0.000000\n",
       "75%          216.130000                 21.000000\n",
       "max       948345.300000               2072.000000"
      ]
     },
     "execution_count": 1417,
     "metadata": {},
     "output_type": "execute_result"
    }
   ],
   "source": [
    "sales_account[[\"Gradient_Revenue\", \"time_between_sales_trend\"]].describe()"
   ]
  },
  {
   "cell_type": "markdown",
   "metadata": {},
   "source": [
    "##### Customer Specific top Items"
   ]
  },
  {
   "cell_type": "code",
   "execution_count": 1188,
   "metadata": {},
   "outputs": [],
   "source": [
    "# Customer Specific top Items\n",
    "x=pd.DataFrame(sales.groupby(['Customer No'])['Item'].value_counts().rename('Count').reset_index()) \n",
    "x= x.drop_duplicates('Customer No')\n",
    "features =pd.merge(features, x, on=('Customer No'), how='left')\n",
    "features = features.rename(columns={'Item':'Customer_specific_pop.Item', 'Count':'Popular_item_count'})\n",
    "sales_account = features"
   ]
  },
  {
   "cell_type": "markdown",
   "metadata": {},
   "source": [
    "##### No. of Managers & Consolidated Silverpop score"
   ]
  },
  {
   "cell_type": "code",
   "execution_count": 1209,
   "metadata": {},
   "outputs": [],
   "source": [
    "contact1 = pd.read_excel (r'/Users/areeb/Downloads/contact_features.xlsx')\n",
    "contact1 = contact1.rename(columns={\"AccountNumber\": \"Customer No\"})\n",
    "contact1 = contact1[['Customer No','No.Of Managers','Consolidated_Silverpop']]\n",
    "\n",
    "sales_account = pd.merge(sales_account,\n",
    "                 contact1,\n",
    "                 on=('Customer No'), \n",
    "                 how='left')"
   ]
  },
  {
   "cell_type": "markdown",
   "metadata": {},
   "source": [
    "##### Percent DGOP contacts"
   ]
  },
  {
   "cell_type": "code",
   "execution_count": 1218,
   "metadata": {},
   "outputs": [],
   "source": [
    "contact = pd.read_excel (r'/Users/areeb/Downloads/contact.xlsx')\n"
   ]
  },
  {
   "cell_type": "code",
   "execution_count": 1222,
   "metadata": {},
   "outputs": [],
   "source": [
    "contact2 = contact.groupby('Acct_Number__c').agg(NoofContacts_DGOP=('Job_Function_LM__c', 'value_counts')).reset_index()\n",
    "contact3=contact2.groupby('Acct_Number__c').agg(TotalContacts=('NoofContacts_DGOP', 'sum')).reset_index()\n",
    "contact_DGOP=contact2.loc[(contact2['Job_Function_LM__c']==\"DG\") | (contact2['Job_Function_LM__c']==\"OP\")]\n",
    "contact_DGOP=contact_DGOP.groupby('Acct_Number__c').agg(Total_DGOP_Contacts=('NoofContacts_DGOP', 'sum')).reset_index()\n",
    "contact_DGOP=contact_DGOP.merge(contact3,on=('Acct_Number__c'),how=('left'))\n",
    "contact_DGOP['Perc_DGOP']=((contact_DGOP['Total_DGOP_Contacts'])/(contact_DGOP['TotalContacts'])*100)\n",
    "\n",
    "sales_account = sales_account.merge(contact_DGOP,left_on=('Customer No'),right_on=('Acct_Number__c'),how=('left'))"
   ]
  },
  {
   "cell_type": "markdown",
   "metadata": {},
   "source": [
    "##### Compliance score of family and family data join with sales_account"
   ]
  },
  {
   "cell_type": "code",
   "execution_count": 1258,
   "metadata": {},
   "outputs": [],
   "source": [
    "family = pd.read_excel (r'/Users/areeb/Downloads/family.xlsx')\n",
    "#sales_account = sales_account.merge(contact_DGOP,left_on=('Customer No'),right_on=('Acct_Number__c'),how=('left'))"
   ]
  },
  {
   "cell_type": "code",
   "execution_count": 1261,
   "metadata": {},
   "outputs": [],
   "source": [
    "family['Family_Name__c'] = family['Family_Name__c'].astype(str)\n",
    "family['Family_Segmentation__c'] = family['Family_Segmentation__c'].fillna('not_compliant')\n",
    "sub ='Safely'\n",
    "sub2 = 'Basically'\n",
    "sub3 = 'not_compliant'\n",
    "family.loc[family[\"Family_Segmentation__c\"].str.contains(sub),'compliance_score'] = 1\n",
    "family.loc[family[\"Family_Segmentation__c\"].str.contains(sub2),'compliance_score'] = 2\n",
    "family.loc[family[\"Family_Segmentation__c\"].str.contains(sub3),'compliance_score'] = 3\n",
    "del family['Tier_Note__c']\n",
    "\n",
    "sales_account['family_code'] = sales_account['FamilyCode_FNT__c'].astype(str).str.split('.').str[0]\n",
    "sales_account = sales_account.merge(family,left_on=('family_code'),right_on=('Family_Name__c'),how=('left'))"
   ]
  },
  {
   "cell_type": "code",
   "execution_count": 1323,
   "metadata": {},
   "outputs": [],
   "source": [
    "del sales_account['ZI_Industry__c']\n",
    "industry = account[['Customer No','ZI_Industry__c']]\n",
    "sales_account = sales_account.merge(industry,left_on=('Customer No'),right_on=('Customer No'),how=('left'))\n",
    "sales_account.loc[sales_account['ZI_Industry__c'].isnull(),'ZI_Industry__c'] = sales_account['Family_Industry_Description_New__c']\n",
    "\n",
    "sales_consolidated_lasttransaction = sales_account.loc[(sales_account['last'] == 'true')]"
   ]
  },
  {
   "cell_type": "markdown",
   "metadata": {},
   "source": [
    "##### Item Diversity Index and Dept Diversity Index"
   ]
  },
  {
   "cell_type": "code",
   "execution_count": 1436,
   "metadata": {},
   "outputs": [],
   "source": [
    "sales_item = sales.groupby(['customer_time'])['Item'].nunique().reset_index()\n",
    "sales_dept = sales.groupby('customer_time')['Department Dim Description'].nunique().reset_index()\n",
    "\n",
    "sales_item = sales_item.rename(columns={'Item': \"item_diversity_index\"})\n",
    "sales_dept = sales_dept.rename(columns={'Department Dim Description': \"dept_diversity_index\"})\n",
    "\n",
    "sales_account = sales_account.merge(sales_item, on = ('customer_time'),how=('left'))\n",
    "sales_account = sales_account.merge(sales_dept, on = ('customer_time'),how=('left'))\n",
    "\n",
    "\n",
    "sales_account['cumulative_item_count'] = sales_account.groupby('Customer No')['item_diversity_index'].cumsum()\n",
    "sales_account['cumulative_dept_count'] = sales_account.groupby('Customer No')['dept_diversity_index'].cumsum()\n",
    "\n",
    "\n",
    "sales_account['item_diversity_index'] = sales_account['cumulative_item_count']/sales_account['count']\n",
    "sales_account['dept_diversity_index'] = sales_account['cumulative_dept_count']/sales_account['count']\n",
    "\n",
    "\n",
    "sales_account.drop(['cumulative_item_count', 'cumulative_dept_count'], axis=1, inplace=True)"
   ]
  },
  {
   "cell_type": "code",
   "execution_count": 1450,
   "metadata": {},
   "outputs": [
    {
     "data": {
      "text/plain": [
       "Index(['customer_time', 'Quantity Ordered', 'Line Item Amount', 'Customer No',\n",
       "       'Posting Date', 'next_order_date', 'time_to_order', 'block', 'count',\n",
       "       'expected_purchase_window', 'time_to_churn_standard', 'churn_standard',\n",
       "       'last', 'year', 'time_to_churn_modified', 'churn_modified',\n",
       "       'churn_score', 'churn alarm', 'Id_x', 'CreatedDate_x',\n",
       "       'LastActivityDate', 'Coverage_Priority__c', 'FamilyCode_FNT__c',\n",
       "       'HQ_State__c', 'ZI_Company_Revenue_Range__c', 'ZI_Company_Ranking__c',\n",
       "       'ZI_Company_Employee_Range__c', 'Tier__c', 'ZI_Company_Type__c',\n",
       "       'ZI_Number_Of_Locations__c', 'ZI_Technologies__c',\n",
       "       'cumulative_sum_revenue', 'revenue_bucket', 'Client_revenue',\n",
       "       'count_group', 'Platinum_products', 'Gold_products', 'Silver_products',\n",
       "       'Bronze_products', 'Metal_products', 'total_platinum_items',\n",
       "       'total_gold_items', 'total_silver_items', 'total_Bronze_items',\n",
       "       'total_Metal_items', 'Platinum_Quality_Ratio',\n",
       "       'Platinum_Gold_Quality_Ratio', 'Platinum_bucket',\n",
       "       'Platinum_Quality_bucket', 'first_sale_date', 'tenure', 'AvgCost',\n",
       "       'AvgQuantity', 'TotalQuantity', 'GradientQuantity', 'TotalCost',\n",
       "       'Customer_specific_pop.Item', 'Popular_item_count', 'No.Of Managers',\n",
       "       'Consolidated_Silverpop', 'Acct_Number__c', 'Total_DGOP_Contacts',\n",
       "       'TotalContacts', 'Perc_DGOP', 'family_code', 'Id_y', 'CreatedDate_y',\n",
       "       'Family_Name__c', 'Family_Industry_Description_New__c', 'Territory__c',\n",
       "       'Family_Segmentation__c', 'BDM_and_Inside_Coverage__c',\n",
       "       'compliance_score', 'ZI_Industry__c', 'Gradient_Revenue',\n",
       "       'last_order_date', 'time_between_sales_trend', 'item_diversity_index',\n",
       "       'dept_diversity_index'],\n",
       "      dtype='object')"
      ]
     },
     "execution_count": 1450,
     "metadata": {},
     "output_type": "execute_result"
    }
   ],
   "source": [
    "sales_account.columns"
   ]
  },
  {
   "cell_type": "code",
   "execution_count": 1464,
   "metadata": {},
   "outputs": [],
   "source": [
    "IIT_churn_master_dataset = sales_account\n",
    "IIT_churn_customer_master_dataset = sales_consolidated_lasttransaction\n",
    "\n",
    "IIT_churn_master_dataset = IIT_churn_master_dataset.drop(['Quantity Ordered','Line Item Amount','next_order_date','block',\n",
    "                       'last','year','Id_x','CreatedDate_x','LastActivityDate','FamilyCode_FNT__c','count_group',\n",
    "                       'Platinum_products','Gold_products','Silver_products','Bronze_products','Metal_products',\n",
    "                       'first_sale_date','GradientQuantity','Acct_Number__c','family_code','Id_y','CreatedDate_y',\n",
    "                       'Family_Name__c','last_order_date'],axis = 1)\n",
    "IIT_churn_customer_master_dataset = IIT_churn_customer_master_dataset.drop(['customer_time','Quantity Ordered','Line Item Amount','next_order_date','block',\n",
    "                       'last','year','Id_x','CreatedDate_x','LastActivityDate','FamilyCode_FNT__c','count_group',\n",
    "                       'Platinum_products','Gold_products','Silver_products','Bronze_products','Metal_products',\n",
    "                       'first_sale_date','GradientQuantity','Acct_Number__c','family_code','Id_y','CreatedDate_y',\n",
    "                       'Family_Name__c','last_order_date'],axis = 1)"
   ]
  },
  {
   "cell_type": "markdown",
   "metadata": {},
   "source": [
    "# Final Dataset for Modeling Transaction Wise"
   ]
  },
  {
   "cell_type": "code",
   "execution_count": 1463,
   "metadata": {},
   "outputs": [],
   "source": [
    "IIT_churn_master_dataset.to_excel(\"IIT_churn_master_dataset.xlsx\")  "
   ]
  },
  {
   "cell_type": "markdown",
   "metadata": {},
   "source": [
    "# Final Dataset for Customer Wise"
   ]
  },
  {
   "cell_type": "code",
   "execution_count": 1465,
   "metadata": {},
   "outputs": [],
   "source": [
    "IIT_churn_customer_master_dataset.to_excel(\"IIT_churn_customer_master_dataset.xlsx\")  "
   ]
  },
  {
   "cell_type": "markdown",
   "metadata": {},
   "source": [
    "### Department Dim Analysis"
   ]
  },
  {
   "cell_type": "code",
   "execution_count": 997,
   "metadata": {},
   "outputs": [],
   "source": [
    "sales.loc[(sales['Department Dim Description'] == 'Placards') | (sales['Department Dim Description'] == 'Imprinted Placards'),'Department Dim Description'] = 'Placards'\n",
    "sales.loc[(sales['Department Dim Description'] == 'Labels') | (sales['Department Dim Description'] == 'Personal Compliance'),'Department Dim Description'] = 'Labels & PC'\n",
    "\n",
    "#del sales['churn_standard']\n",
    "\n",
    "sales = sales.set_index('Customer No')\n",
    "\n",
    "sales_account_sub = sales_consolidated_lasttransaction[['Customer No','churn_standard']]\n",
    "sales = pd.merge(sales,\n",
    "                 sales_account_sub,\n",
    "                 on=('Customer No'), \n",
    "                 how='left')\n",
    "\n",
    "\n",
    "sales_filter = sales.loc[sales['item_type'].notnull()]\n",
    "sales_filter = sales_filter[sales_filter['churn_standard'].notnull()]\n",
    "\n",
    "sales_filter = sales_filter.groupby(['Customer No','Department Dim Description','year'])['churn_standard'].max().reset_index()\n",
    "\n",
    "item_top_churn = sales_filter.groupby(['Department Dim Description','year','churn_standard']).size().sort_values(ascending = False).reset_index()\n",
    "\n",
    "item_top_churn = item_top_churn.rename(columns={0: \"count\"})\n",
    "item_top_churn_0 = item_top_churn.loc[item_top_churn['churn_standard'] == 0]\n",
    "item_top_churn_1 = item_top_churn.loc[item_top_churn['churn_standard'] == 1]\n",
    "item_top_churn = pd.merge(item_top_churn_0,\n",
    "                 item_top_churn_1,\n",
    "                 on=('Department Dim Description','year'), \n",
    "                 how='left')\n",
    "\n",
    "item_top_churn['churn_rate'] = item_top_churn['count_y']/(item_top_churn['count_y']+item_top_churn['count_x'])"
   ]
  },
  {
   "cell_type": "code",
   "execution_count": 1013,
   "metadata": {},
   "outputs": [],
   "source": [
    "sales_filter = sales.loc[sales['item_type'].notnull()]\n",
    "sales_filter = sales_filter[sales_filter['churn_standard'].notnull()]\n"
   ]
  },
  {
   "cell_type": "markdown",
   "metadata": {},
   "source": [
    "##### Dept and Industry wise churn"
   ]
  },
  {
   "cell_type": "code",
   "execution_count": 1075,
   "metadata": {},
   "outputs": [
    {
     "name": "stderr",
     "output_type": "stream",
     "text": [
      "C:\\Users\\areeb\\anaconda3\\lib\\site-packages\\pandas\\core\\indexing.py:1817: SettingWithCopyWarning: \n",
      "A value is trying to be set on a copy of a slice from a DataFrame.\n",
      "Try using .loc[row_indexer,col_indexer] = value instead\n",
      "\n",
      "See the caveats in the documentation: https://pandas.pydata.org/pandas-docs/stable/user_guide/indexing.html#returning-a-view-versus-a-copy\n",
      "  self._setitem_single_column(loc, value, pi)\n"
     ]
    }
   ],
   "source": [
    "sales_consolidated_lasttransaction.loc[(sales_consolidated_lasttransaction['ZI_Industry__c']!= 'Manufacturing')&\n",
    "                 (sales_consolidated_lasttransaction['ZI_Industry__c']!= 'Business Services')&\n",
    "                 (sales_consolidated_lasttransaction['ZI_Industry__c']!= 'Energy, Utilities & Waste')&\n",
    "                 (sales_consolidated_lasttransaction['ZI_Industry__c']!= 'Retail')&\n",
    "                 (sales_consolidated_lasttransaction['ZI_Industry__c']!= 'Transportation'),'ZI_Industry__c'] = 'Other'\n",
    "\n",
    "industry_wise_churn = sales_consolidated_lasttransaction.groupby(['year','ZI_Industry__c'])['churn_standard'].sum().reset_index()\n",
    "\n",
    "sales_account.loc[(sales_account['ZI_Industry__c']!= 'Manufacturing')&\n",
    "                 (sales_account['ZI_Industry__c']!= 'Business Services')&\n",
    "                 (sales_account['ZI_Industry__c']!= 'Energy, Utilities & Waste')&\n",
    "                 (sales_account['ZI_Industry__c']!= 'Retail')&\n",
    "                 (sales_account['ZI_Industry__c']!= 'Transportation'),'ZI_Industry__c'] = 'Other'\n",
    "year_count = sales_account.groupby(['year','ZI_Industry__c'])['Customer No'].nunique().reset_index()\n",
    "\n",
    "industry_wise_churn = pd.merge(industry_wise_churn,\n",
    "                 year_count,\n",
    "                 on=('year','ZI_Industry__c'), \n",
    "                 how='left')\n",
    "\n",
    "industry_wise_churn['churn_rate'] = industry_wise_churn['churn_standard']/industry_wise_churn['Customer No']*100"
   ]
  },
  {
   "cell_type": "code",
   "execution_count": 1052,
   "metadata": {},
   "outputs": [
    {
     "name": "stderr",
     "output_type": "stream",
     "text": [
      "C:\\Users\\areeb\\anaconda3\\lib\\site-packages\\pandas\\core\\indexing.py:1732: SettingWithCopyWarning: \n",
      "A value is trying to be set on a copy of a slice from a DataFrame\n",
      "\n",
      "See the caveats in the documentation: https://pandas.pydata.org/pandas-docs/stable/user_guide/indexing.html#returning-a-view-versus-a-copy\n",
      "  self._setitem_single_block(indexer, value, name)\n",
      "C:\\Users\\areeb\\anaconda3\\lib\\site-packages\\pandas\\core\\indexing.py:723: SettingWithCopyWarning: \n",
      "A value is trying to be set on a copy of a slice from a DataFrame\n",
      "\n",
      "See the caveats in the documentation: https://pandas.pydata.org/pandas-docs/stable/user_guide/indexing.html#returning-a-view-versus-a-copy\n",
      "  iloc._setitem_with_indexer(indexer, value, self.name)\n"
     ]
    }
   ],
   "source": [
    "customer_indus = sales_consolidated_lasttransaction[['Customer No','ZI_Industry__c']]\n",
    "customer_indus.loc[(customer_indus['ZI_Industry__c']!= 'Manufacturing')&\n",
    "                 (customer_indus['ZI_Industry__c']!= 'Business Services')&\n",
    "                 (customer_indus['ZI_Industry__c']!= 'Energy, Utilities & Waste')&\n",
    "                 (customer_indus['ZI_Industry__c']!= 'Retail')&\n",
    "                 (customer_indus['ZI_Industry__c']!= 'Transportation'),'ZI_Industry__c'] = 'Other'"
   ]
  },
  {
   "cell_type": "code",
   "execution_count": 1056,
   "metadata": {},
   "outputs": [],
   "source": [
    "sales_filter = pd.merge(sales_filter,\n",
    "                 customer_indus,\n",
    "                 on=('Customer No'), \n",
    "                 how='left')\n",
    "\n",
    "sales_filter2 = sales_filter.groupby(['Customer No','Department Dim Description','year','ZI_Industry__c'])['churn_standard'].max().reset_index()\n",
    "sales_filter2 = sales_filter2.groupby(['ZI_Industry__c','Department Dim Description','year','churn_standard']).size().sort_values(ascending = False).reset_index()"
   ]
  },
  {
   "cell_type": "code",
   "execution_count": 1060,
   "metadata": {},
   "outputs": [],
   "source": [
    "sales_filter2 = sales_filter2.rename(columns={0: \"count\"})\n",
    "sales_filter2_0 = sales_filter2.loc[sales_filter2['churn_standard'] == 0]\n",
    "sales_filter2_1 = sales_filter2.loc[sales_filter2['churn_standard'] == 1]\n",
    "sales_filter2 = pd.merge(sales_filter2_0,\n",
    "                 sales_filter2_1,\n",
    "                 on=('Department Dim Description','ZI_Industry__c','year'), \n",
    "                 how='left')\n",
    "\n",
    "sales_filter2 = sales_filter2[sales_filter2['count_x'] > 100]\n",
    "sales_filter2['churn_rate'] = sales_filter2['count_y']/(sales_filter2['count_y']+sales_filter2['count_x'])"
   ]
  },
  {
   "cell_type": "markdown",
   "metadata": {},
   "source": [
    "## Baker & PPG Case Study"
   ]
  },
  {
   "cell_type": "code",
   "execution_count": 1131,
   "metadata": {},
   "outputs": [],
   "source": [
    "baker = sales_consolidated_lasttransaction[sales_consolidated_lasttransaction['Customer No'] == '3001522'][['Customer No','Posting Date','Platinum_products','Gold_products','Silver_products','Bronze_products','Metal_products','time_to_order','expected_purchase_window','time_to_churn_standard','tenure','churn_standard']]\n",
    "baker"
   ]
  },
  {
   "cell_type": "code",
   "execution_count": 1151,
   "metadata": {},
   "outputs": [
    {
     "data": {
      "text/html": [
       "<div>\n",
       "<style scoped>\n",
       "    .dataframe tbody tr th:only-of-type {\n",
       "        vertical-align: middle;\n",
       "    }\n",
       "\n",
       "    .dataframe tbody tr th {\n",
       "        vertical-align: top;\n",
       "    }\n",
       "\n",
       "    .dataframe thead th {\n",
       "        text-align: right;\n",
       "    }\n",
       "</style>\n",
       "<table border=\"1\" class=\"dataframe\">\n",
       "  <thead>\n",
       "    <tr style=\"text-align: right;\">\n",
       "      <th></th>\n",
       "      <th>Customer No</th>\n",
       "      <th>Item</th>\n",
       "      <th>Quantity Ordered</th>\n",
       "      <th>Line Item Amount</th>\n",
       "      <th>Posting Date</th>\n",
       "      <th>Ship-to State</th>\n",
       "      <th>Ship-to ZipCode</th>\n",
       "      <th>Department Dim</th>\n",
       "      <th>Department Dim Description</th>\n",
       "      <th>Product Group Code</th>\n",
       "      <th>Product Group Description</th>\n",
       "      <th>Order Method</th>\n",
       "      <th>Location Code</th>\n",
       "    </tr>\n",
       "  </thead>\n",
       "  <tbody>\n",
       "    <tr>\n",
       "      <th>791542</th>\n",
       "      <td>3001522</td>\n",
       "      <td>ZEZ21993</td>\n",
       "      <td>8</td>\n",
       "      <td>218.32</td>\n",
       "      <td>2020-02-11</td>\n",
       "      <td>TX</td>\n",
       "      <td>75662</td>\n",
       "      <td>511</td>\n",
       "      <td>Placards</td>\n",
       "      <td>51111</td>\n",
       "      <td>Pre-Printed Placards</td>\n",
       "      <td>LM-WEB</td>\n",
       "      <td>10</td>\n",
       "    </tr>\n",
       "    <tr>\n",
       "      <th>791543</th>\n",
       "      <td>3001522</td>\n",
       "      <td>L701</td>\n",
       "      <td>5</td>\n",
       "      <td>138.35</td>\n",
       "      <td>2020-02-11</td>\n",
       "      <td>TX</td>\n",
       "      <td>75662</td>\n",
       "      <td>503</td>\n",
       "      <td>Labels</td>\n",
       "      <td>50303</td>\n",
       "      <td>Regulatory Markings</td>\n",
       "      <td>LM-WEB</td>\n",
       "      <td>10</td>\n",
       "    </tr>\n",
       "    <tr>\n",
       "      <th>791544</th>\n",
       "      <td>3001522</td>\n",
       "      <td>ZEZ43265</td>\n",
       "      <td>6</td>\n",
       "      <td>163.74</td>\n",
       "      <td>2020-02-11</td>\n",
       "      <td>TX</td>\n",
       "      <td>75662</td>\n",
       "      <td>511</td>\n",
       "      <td>Placards</td>\n",
       "      <td>51111</td>\n",
       "      <td>Pre-Printed Placards</td>\n",
       "      <td>LM-WEB</td>\n",
       "      <td>10</td>\n",
       "    </tr>\n",
       "    <tr>\n",
       "      <th>791545</th>\n",
       "      <td>3001522</td>\n",
       "      <td>Z-EZ2</td>\n",
       "      <td>12</td>\n",
       "      <td>264.48</td>\n",
       "      <td>2020-02-11</td>\n",
       "      <td>TX</td>\n",
       "      <td>75662</td>\n",
       "      <td>511</td>\n",
       "      <td>Placards</td>\n",
       "      <td>51102</td>\n",
       "      <td>Worded Placards</td>\n",
       "      <td>LM-WEB</td>\n",
       "      <td>10</td>\n",
       "    </tr>\n",
       "    <tr>\n",
       "      <th>791546</th>\n",
       "      <td>3001522</td>\n",
       "      <td>SHIPPING</td>\n",
       "      <td>1</td>\n",
       "      <td>45.58</td>\n",
       "      <td>2020-02-11</td>\n",
       "      <td>TX</td>\n",
       "      <td>75662</td>\n",
       "      <td>699</td>\n",
       "      <td>Contra Dimension</td>\n",
       "      <td>NaN</td>\n",
       "      <td>NaN</td>\n",
       "      <td>LM-WEB</td>\n",
       "      <td>10</td>\n",
       "    </tr>\n",
       "  </tbody>\n",
       "</table>\n",
       "</div>"
      ],
      "text/plain": [
       "       Customer No      Item  Quantity Ordered  Line Item Amount Posting Date  \\\n",
       "791542     3001522  ZEZ21993                 8            218.32   2020-02-11   \n",
       "791543     3001522      L701                 5            138.35   2020-02-11   \n",
       "791544     3001522  ZEZ43265                 6            163.74   2020-02-11   \n",
       "791545     3001522     Z-EZ2                12            264.48   2020-02-11   \n",
       "791546     3001522  SHIPPING                 1             45.58   2020-02-11   \n",
       "\n",
       "       Ship-to State Ship-to ZipCode  Department Dim  \\\n",
       "791542            TX           75662             511   \n",
       "791543            TX           75662             503   \n",
       "791544            TX           75662             511   \n",
       "791545            TX           75662             511   \n",
       "791546            TX           75662             699   \n",
       "\n",
       "       Department Dim Description Product Group Code  \\\n",
       "791542                   Placards              51111   \n",
       "791543                     Labels              50303   \n",
       "791544                   Placards              51111   \n",
       "791545                   Placards              51102   \n",
       "791546           Contra Dimension                NaN   \n",
       "\n",
       "       Product Group Description Order Method Location Code  \n",
       "791542      Pre-Printed Placards       LM-WEB            10  \n",
       "791543       Regulatory Markings       LM-WEB            10  \n",
       "791544      Pre-Printed Placards       LM-WEB            10  \n",
       "791545           Worded Placards       LM-WEB            10  \n",
       "791546                       NaN       LM-WEB            10  "
      ]
     },
     "execution_count": 1151,
     "metadata": {},
     "output_type": "execute_result"
    }
   ],
   "source": [
    "sales2.loc[(sales2['Customer No'] == '3001522') & (sales2['Posting Date'] == '2020-02-11')]"
   ]
  },
  {
   "cell_type": "code",
   "execution_count": 1140,
   "metadata": {},
   "outputs": [],
   "source": [
    "ppg = sales_consolidated_lasttransaction[sales_consolidated_lasttransaction['Customer No'] == '1268833'][['Customer No','Posting Date','Platinum_products','Gold_products','Silver_products','Bronze_products','Metal_products','time_to_order','expected_purchase_window','time_to_churn_standard','tenure','churn_standard']]\n",
    "ppg"
   ]
  },
  {
   "cell_type": "code",
   "execution_count": 1143,
   "metadata": {},
   "outputs": [
    {
     "data": {
      "text/html": [
       "<div>\n",
       "<style scoped>\n",
       "    .dataframe tbody tr th:only-of-type {\n",
       "        vertical-align: middle;\n",
       "    }\n",
       "\n",
       "    .dataframe tbody tr th {\n",
       "        vertical-align: top;\n",
       "    }\n",
       "\n",
       "    .dataframe thead th {\n",
       "        text-align: right;\n",
       "    }\n",
       "</style>\n",
       "<table border=\"1\" class=\"dataframe\">\n",
       "  <thead>\n",
       "    <tr style=\"text-align: right;\">\n",
       "      <th></th>\n",
       "      <th>Customer No</th>\n",
       "      <th>Posting Date</th>\n",
       "      <th>Platinum_products</th>\n",
       "      <th>Gold_products</th>\n",
       "      <th>Silver_products</th>\n",
       "      <th>Bronze_products</th>\n",
       "      <th>Metal_products</th>\n",
       "      <th>time_to_order</th>\n",
       "      <th>expected_purchase_window</th>\n",
       "      <th>time_to_churn_standard</th>\n",
       "      <th>tenure</th>\n",
       "      <th>churn_standard</th>\n",
       "    </tr>\n",
       "  </thead>\n",
       "  <tbody>\n",
       "    <tr>\n",
       "      <th>238197</th>\n",
       "      <td>1268833</td>\n",
       "      <td>2021-09-16</td>\n",
       "      <td>2.0</td>\n",
       "      <td>0.0</td>\n",
       "      <td>1.0</td>\n",
       "      <td>2.0</td>\n",
       "      <td>1.0</td>\n",
       "      <td>146.5806</td>\n",
       "      <td>30.111111</td>\n",
       "      <td>120.444444</td>\n",
       "      <td>2081.0</td>\n",
       "      <td>1.0</td>\n",
       "    </tr>\n",
       "  </tbody>\n",
       "</table>\n",
       "</div>"
      ],
      "text/plain": [
       "       Customer No Posting Date  Platinum_products  Gold_products  \\\n",
       "238197     1268833   2021-09-16                2.0            0.0   \n",
       "\n",
       "        Silver_products  Bronze_products  Metal_products  time_to_order  \\\n",
       "238197              1.0              2.0             1.0       146.5806   \n",
       "\n",
       "        expected_purchase_window  time_to_churn_standard  tenure  \\\n",
       "238197                 30.111111              120.444444  2081.0   \n",
       "\n",
       "        churn_standard  \n",
       "238197             1.0  "
      ]
     },
     "execution_count": 1143,
     "metadata": {},
     "output_type": "execute_result"
    }
   ],
   "source": [
    "ppg"
   ]
  },
  {
   "cell_type": "code",
   "execution_count": 1145,
   "metadata": {},
   "outputs": [
    {
     "data": {
      "text/html": [
       "<div>\n",
       "<style scoped>\n",
       "    .dataframe tbody tr th:only-of-type {\n",
       "        vertical-align: middle;\n",
       "    }\n",
       "\n",
       "    .dataframe tbody tr th {\n",
       "        vertical-align: top;\n",
       "    }\n",
       "\n",
       "    .dataframe thead th {\n",
       "        text-align: right;\n",
       "    }\n",
       "</style>\n",
       "<table border=\"1\" class=\"dataframe\">\n",
       "  <thead>\n",
       "    <tr style=\"text-align: right;\">\n",
       "      <th></th>\n",
       "      <th>customer_time</th>\n",
       "      <th>Quantity Ordered</th>\n",
       "      <th>Line Item Amount</th>\n",
       "      <th>Customer No</th>\n",
       "      <th>Posting Date</th>\n",
       "      <th>next_order_date</th>\n",
       "      <th>time_to_order</th>\n",
       "      <th>block</th>\n",
       "      <th>count</th>\n",
       "      <th>expected_purchase_window</th>\n",
       "      <th>...</th>\n",
       "      <th>total_silver_items</th>\n",
       "      <th>total_Bronze_items</th>\n",
       "      <th>total_Metal_items</th>\n",
       "      <th>Platinum_Quality_Ratio</th>\n",
       "      <th>Platinum_Gold_Quality_Ratio</th>\n",
       "      <th>Platinum_bucket</th>\n",
       "      <th>Platinum_Quality_bucket</th>\n",
       "      <th>first_sale_date</th>\n",
       "      <th>tenure</th>\n",
       "      <th>AvgCost</th>\n",
       "    </tr>\n",
       "  </thead>\n",
       "  <tbody>\n",
       "    <tr>\n",
       "      <th>238194</th>\n",
       "      <td>12688332021-05-27</td>\n",
       "      <td>2</td>\n",
       "      <td>259.01</td>\n",
       "      <td>1268833</td>\n",
       "      <td>2021-05-27</td>\n",
       "      <td>2021-08-30 00:00:00.000000</td>\n",
       "      <td>95.0000</td>\n",
       "      <td>11803</td>\n",
       "      <td>835</td>\n",
       "      <td>30.033573</td>\n",
       "      <td>...</td>\n",
       "      <td>527.0</td>\n",
       "      <td>302.0</td>\n",
       "      <td>822.0</td>\n",
       "      <td>21.212121</td>\n",
       "      <td>35.858586</td>\n",
       "      <td>&gt;5</td>\n",
       "      <td>1-25</td>\n",
       "      <td>2016-01-05</td>\n",
       "      <td>1969.0</td>\n",
       "      <td>813.143677</td>\n",
       "    </tr>\n",
       "    <tr>\n",
       "      <th>238197</th>\n",
       "      <td>12688332021-09-16</td>\n",
       "      <td>3</td>\n",
       "      <td>0.00</td>\n",
       "      <td>1268833</td>\n",
       "      <td>2021-09-16</td>\n",
       "      <td>2022-02-09 13:56:03.802254</td>\n",
       "      <td>146.5806</td>\n",
       "      <td>11803</td>\n",
       "      <td>838</td>\n",
       "      <td>30.111111</td>\n",
       "      <td>...</td>\n",
       "      <td>528.0</td>\n",
       "      <td>307.0</td>\n",
       "      <td>824.0</td>\n",
       "      <td>21.268368</td>\n",
       "      <td>35.846868</td>\n",
       "      <td>&gt;5</td>\n",
       "      <td>1-25</td>\n",
       "      <td>2016-01-05</td>\n",
       "      <td>2081.0</td>\n",
       "      <td>811.690346</td>\n",
       "    </tr>\n",
       "  </tbody>\n",
       "</table>\n",
       "<p>2 rows × 53 columns</p>\n",
       "</div>"
      ],
      "text/plain": [
       "            customer_time  Quantity Ordered  Line Item Amount Customer No  \\\n",
       "238194  12688332021-05-27                 2            259.01     1268833   \n",
       "238197  12688332021-09-16                 3              0.00     1268833   \n",
       "\n",
       "       Posting Date            next_order_date  time_to_order  block  count  \\\n",
       "238194   2021-05-27 2021-08-30 00:00:00.000000        95.0000  11803    835   \n",
       "238197   2021-09-16 2022-02-09 13:56:03.802254       146.5806  11803    838   \n",
       "\n",
       "        expected_purchase_window  ...  total_silver_items  total_Bronze_items  \\\n",
       "238194                 30.033573  ...               527.0               302.0   \n",
       "238197                 30.111111  ...               528.0               307.0   \n",
       "\n",
       "       total_Metal_items  Platinum_Quality_Ratio  Platinum_Gold_Quality_Ratio  \\\n",
       "238194             822.0               21.212121                    35.858586   \n",
       "238197             824.0               21.268368                    35.846868   \n",
       "\n",
       "        Platinum_bucket  Platinum_Quality_bucket first_sale_date  tenure  \\\n",
       "238194               >5                     1-25      2016-01-05  1969.0   \n",
       "238197               >5                     1-25      2016-01-05  2081.0   \n",
       "\n",
       "           AvgCost  \n",
       "238194  813.143677  \n",
       "238197  811.690346  \n",
       "\n",
       "[2 rows x 53 columns]"
      ]
     },
     "execution_count": 1145,
     "metadata": {},
     "output_type": "execute_result"
    }
   ],
   "source": [
    "sales_account.loc[(sales_account['Customer No'] == '1268833') & (sales_account['time_to_order'] > 70)]"
   ]
  }
 ],
 "metadata": {
  "kernelspec": {
   "display_name": "Python 3 (ipykernel)",
   "language": "python",
   "name": "python3"
  },
  "language_info": {
   "codemirror_mode": {
    "name": "ipython",
    "version": 3
   },
   "file_extension": ".py",
   "mimetype": "text/x-python",
   "name": "python",
   "nbconvert_exporter": "python",
   "pygments_lexer": "ipython3",
   "version": "3.9.7"
  }
 },
 "nbformat": 4,
 "nbformat_minor": 4
}